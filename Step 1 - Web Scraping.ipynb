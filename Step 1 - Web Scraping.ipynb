{
 "cells": [
  {
   "cell_type": "markdown",
   "id": "initial-gallery",
   "metadata": {},
   "source": [
    "**IMPORT STATMENTS**"
   ]
  },
  {
   "cell_type": "code",
   "execution_count": 1,
   "id": "under-intellectual",
   "metadata": {},
   "outputs": [],
   "source": [
    "# Add import statements here\n",
    "\n",
    "import json\n",
    "import requests\n",
    "import numpy as np\n",
    "import pandas as pd\n",
    "from bs4 import BeautifulSoup  "
   ]
  },
  {
   "cell_type": "markdown",
   "id": "intelligent-fancy",
   "metadata": {},
   "source": [
    "**CREATING FUNCTION TO SCRAPE REVIEWS**"
   ]
  },
  {
   "cell_type": "code",
   "execution_count": 2,
   "id": "optional-clearing",
   "metadata": {},
   "outputs": [],
   "source": [
    "def getFullReviews(page_url):\n",
    "    \n",
    "    reviews=[]  # variable to hold all reviews\n",
    "    rows=[]\n",
    "    df = pd.DataFrame()\n",
    "    domain_name = 'https://www.consumeraffairs.com/'\n",
    "    \n",
    "    while page_url:\n",
    "        \n",
    "        page = requests.get(page_url)\n",
    "        \n",
    "        if page.status_code==200:\n",
    "            soup = BeautifulSoup(page.content, 'html.parser')\n",
    "            divs = soup.select(\"div.js-paginator-data div.rvw.js-rvw\") \n",
    "            #print(divs)\n",
    "            \n",
    "            for idx, div in enumerate(divs):\n",
    "\n",
    "                reviewer = None\n",
    "                content = None\n",
    "                date = None\n",
    "                ratings = None\n",
    "\n",
    "    #### getting Reviewer name ####\n",
    "    \n",
    "                a_reviewer = div.select(\"div.rvw-aut strong.rvw-aut__inf-nm\")\n",
    "        \n",
    "                if a_reviewer!=[]:\n",
    "                    reviewer=a_reviewer[0].get_text()\n",
    "                    reviewer = reviewer[:-4]\n",
    "                #print(reviewer)\n",
    "            \n",
    "    #### Getting Content ####\n",
    "            \n",
    "                a_content = div.select(\"div.rvw-bd\")   \n",
    "                #print(a_content)\n",
    "    \n",
    "                if a_content!=[]:\n",
    "                    content=a_content[0].get_text()\n",
    "                #print(content)\n",
    "    \n",
    "                if \"review\" in content:\n",
    "                    content = content.replace(\"Read full review\", \" \")\n",
    "                    content = content.replace(\"Original review:\", \" \")\n",
    "                #print(content)\n",
    "        \n",
    "                d = re.findall(\"\\w+[ .]*\\d+[, ] \\d+\", content)\n",
    "                #print(d)\n",
    "\n",
    "                for dates in d:\n",
    "                     content = content.replace(dates,\" \")\n",
    "                #print(content)\n",
    "    \n",
    "        #### Getting date ####\n",
    "    \n",
    "                a_date = div.select(\"div.rvw-bd\")\n",
    "        \n",
    "                if a_date!=[]:\n",
    "                    date=a_date[0].get_text()\n",
    "                #print(date)\n",
    "        \n",
    "                date = re.findall(\"\\w+[ .]*\\d+[, ] \\d+\", date)\n",
    "                #print(date)\n",
    "    \n",
    "                for dates in date:\n",
    "                    date = dates\n",
    "                #print(date)\n",
    "    \n",
    "        #### Getting rating ####\n",
    "    \n",
    "                a_rating = div.select(\"div.rvw.js-rvw img.stars-rtg\")  #div.rvw.js-rvw\n",
    "    \n",
    "                rating = \"\"\n",
    "                \n",
    "                for element in a_rating:\n",
    "                    rating += str(element)\n",
    "                #print(ratings)\n",
    "    \n",
    "                rating = re.findall(r'(data-rating=\"[0-9]\\.[0-9]\")', rating)\n",
    "                rating =re.findall(r'([0-9]\\.[0-9])', str(rating))\n",
    "                #print(rating)\n",
    "    \n",
    "                for ratings in rating:\n",
    "                     rating = ratings\n",
    "                \n",
    "                if ratings in rating:\n",
    "                    rating = ratings\n",
    "                else:\n",
    "                    rating = None\n",
    "                    \n",
    "                #print(rating)\n",
    "                \n",
    "                rows.append((date,reviewer, content, rating)) # \n",
    "                #print(rows)     \n",
    "     \n",
    "            next_btn = soup.select(\"div.h-col-stk a.ca-a-md.js-pager-next\")\n",
    "            #print(next_btn)\n",
    "            \n",
    "            if len(next_btn)>0:\n",
    "                next_page = next_btn[0][\"href\"]\n",
    "                if domain_name in next_page:\n",
    "                    next_page = next_page.replace(domain_name, \"\")\n",
    "                    #print(next_page)\n",
    "                    page_url = domain_name + next_page\n",
    "                    #print(page_url)   \n",
    "            else:\n",
    "                page_url = None\n",
    "            \n",
    "    df = pd.DataFrame(rows, columns = [\"Date\", \"Reviewer\",\"Content\", \"Rating\" ])\n",
    "    #print(df)\n",
    "    reviews = df.apply(lambda r: r.str.strip() if r.dtype == \"object\" else r)   \n",
    "    \n",
    "    \n",
    "    return(reviews)"
   ]
  },
  {
   "cell_type": "markdown",
   "id": "conceptual-gentleman",
   "metadata": {},
   "source": [
    "**SCRAPING DATA FOR AT&T AND DOWNLOADING DATASET**"
   ]
  },
  {
   "cell_type": "code",
   "execution_count": 5,
   "id": "textile-third",
   "metadata": {},
   "outputs": [],
   "source": [
    "getFullReviews('https://www.consumeraffairs.com/cell_phones/att_wireless.htm').to_csv(\"AT&T_Reviews.csv\", index = False)"
   ]
  },
  {
   "cell_type": "markdown",
   "id": "smoking-nothing",
   "metadata": {},
   "source": [
    "**SCRAPING DATA FOR VERIZON AND DOWNLOADING DATASET**"
   ]
  },
  {
   "cell_type": "code",
   "execution_count": 6,
   "id": "indirect-stylus",
   "metadata": {},
   "outputs": [],
   "source": [
    "getFullReviews('https://www.consumeraffairs.com/cell_phones/verizon_wireless.html').to_csv(\"Verizon_Reviews.csv\", index = False)"
   ]
  }
 ],
 "metadata": {
  "kernelspec": {
   "display_name": "Python 3",
   "language": "python",
   "name": "python3"
  },
  "language_info": {
   "codemirror_mode": {
    "name": "ipython",
    "version": 3
   },
   "file_extension": ".py",
   "mimetype": "text/x-python",
   "name": "python",
   "nbconvert_exporter": "python",
   "pygments_lexer": "ipython3",
   "version": "3.8.3"
  }
 },
 "nbformat": 4,
 "nbformat_minor": 5
}
