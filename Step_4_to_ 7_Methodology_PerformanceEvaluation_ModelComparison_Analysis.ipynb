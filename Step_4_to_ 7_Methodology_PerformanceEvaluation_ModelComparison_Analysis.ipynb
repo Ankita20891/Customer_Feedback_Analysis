{
 "cells": [
  {
   "cell_type": "markdown",
   "id": "guilty-briefing",
   "metadata": {},
   "source": [
    "## **IMPORT STATEMENTS**"
   ]
  },
  {
   "cell_type": "code",
   "execution_count": 10,
   "id": "colonial-retro",
   "metadata": {},
   "outputs": [],
   "source": [
    "# Add import statements here\n",
    "\n",
    "import re \n",
    "import nltk\n",
    "import json\n",
    "import string\n",
    "import gensim\n",
    "import logging\n",
    "import requests\n",
    "import datetime\n",
    "import numpy as np\n",
    "import pandas as pd\n",
    "import seaborn as sns\n",
    "import pandas_profiling\n",
    "from sklearn import svm\n",
    "from nltk import tokenize\n",
    "from sklearn.svm import SVC\n",
    "from sklearn import metrics\n",
    "from nltk.collocations import *\n",
    "import matplotlib.pyplot as plt\n",
    "from nltk.corpus import wordnet\n",
    "from wordcloud import WordCloud\n",
    "from nltk.corpus import stopwords\n",
    "from gensim.models import word2vec\n",
    "from nltk.corpus import wordnet as wn\n",
    "from nltk.stem import WordNetLemmatizer\n",
    "from sklearn.preprocessing import normalize\n",
    "from sklearn.naive_bayes import MultinomialNB\n",
    "from sklearn.preprocessing import MinMaxScaler\n",
    "from sklearn.metrics import pairwise_distances\n",
    "from sklearn.metrics import classification_report\n",
    "from sklearn.model_selection import cross_validate\n",
    "from sklearn.model_selection import train_test_split\n",
    "from nltk.sentiment.vader import SentimentIntensityAnalyzer\n",
    "from IPython.core.interactiveshell import InteractiveShell\n",
    "InteractiveShell.ast_node_interactivity = \"all\"\n",
    "from nltk.collocations import BigramAssocMeasures, BigramCollocationFinder\n",
    "from sklearn.feature_extraction.text import CountVectorizer"
   ]
  },
  {
   "cell_type": "markdown",
   "id": "square-ethics",
   "metadata": {},
   "source": [
    "## **SENTIMENT ANALYSIS OF AT&T**"
   ]
  },
  {
   "cell_type": "markdown",
   "id": "overall-treasury",
   "metadata": {},
   "source": [
    "**Dataset required for our analysis**\n",
    "\n",
    "**att.csv:** Dataset for Training  \n",
    "**atest.csv:** Dataset for Testing"
   ]
  },
  {
   "cell_type": "code",
   "execution_count": 2,
   "id": "together-passion",
   "metadata": {},
   "outputs": [
    {
     "data": {
      "text/html": [
       "<div>\n",
       "<style scoped>\n",
       "    .dataframe tbody tr th:only-of-type {\n",
       "        vertical-align: middle;\n",
       "    }\n",
       "\n",
       "    .dataframe tbody tr th {\n",
       "        vertical-align: top;\n",
       "    }\n",
       "\n",
       "    .dataframe thead th {\n",
       "        text-align: right;\n",
       "    }\n",
       "</style>\n",
       "<table border=\"1\" class=\"dataframe\">\n",
       "  <thead>\n",
       "    <tr style=\"text-align: right;\">\n",
       "      <th></th>\n",
       "      <th>Date</th>\n",
       "      <th>Reviewer</th>\n",
       "      <th>Content</th>\n",
       "      <th>Rating</th>\n",
       "      <th>Label</th>\n",
       "    </tr>\n",
       "  </thead>\n",
       "  <tbody>\n",
       "    <tr>\n",
       "      <th>0</th>\n",
       "      <td>12/29/2020</td>\n",
       "      <td>Mary of Dallas</td>\n",
       "      <td>Absolutely the worse customer service I have e...</td>\n",
       "      <td>1</td>\n",
       "      <td>0</td>\n",
       "    </tr>\n",
       "    <tr>\n",
       "      <th>1</th>\n",
       "      <td>12/28/2020</td>\n",
       "      <td>kor of Derwood</td>\n",
       "      <td>Don't use AT&amp;T. I switched from T-Mobile to AT...</td>\n",
       "      <td>1</td>\n",
       "      <td>0</td>\n",
       "    </tr>\n",
       "    <tr>\n",
       "      <th>2</th>\n",
       "      <td>12/28/2020</td>\n",
       "      <td>Mike of Edison</td>\n",
       "      <td>The worst wireless company ever from the servi...</td>\n",
       "      <td>1</td>\n",
       "      <td>0</td>\n",
       "    </tr>\n",
       "    <tr>\n",
       "      <th>3</th>\n",
       "      <td>12/28/2020</td>\n",
       "      <td>Heather of Framingham</td>\n",
       "      <td>We have a family plan with 4 cell phones (iPho...</td>\n",
       "      <td>1</td>\n",
       "      <td>0</td>\n",
       "    </tr>\n",
       "    <tr>\n",
       "      <th>4</th>\n",
       "      <td>12/23/2020</td>\n",
       "      <td>Sylvia of Mobile</td>\n",
       "      <td>AT&amp;T is a scam of the highest magnitude. I tur...</td>\n",
       "      <td>1</td>\n",
       "      <td>0</td>\n",
       "    </tr>\n",
       "  </tbody>\n",
       "</table>\n",
       "</div>"
      ],
      "text/plain": [
       "         Date               Reviewer  \\\n",
       "0  12/29/2020         Mary of Dallas   \n",
       "1  12/28/2020         kor of Derwood   \n",
       "2  12/28/2020         Mike of Edison   \n",
       "3  12/28/2020  Heather of Framingham   \n",
       "4  12/23/2020       Sylvia of Mobile   \n",
       "\n",
       "                                             Content  Rating  Label  \n",
       "0  Absolutely the worse customer service I have e...       1      0  \n",
       "1  Don't use AT&T. I switched from T-Mobile to AT...       1      0  \n",
       "2  The worst wireless company ever from the servi...       1      0  \n",
       "3  We have a family plan with 4 cell phones (iPho...       1      0  \n",
       "4  AT&T is a scam of the highest magnitude. I tur...       1      0  "
      ]
     },
     "execution_count": 2,
     "metadata": {},
     "output_type": "execute_result"
    },
    {
     "data": {
      "text/html": [
       "<div>\n",
       "<style scoped>\n",
       "    .dataframe tbody tr th:only-of-type {\n",
       "        vertical-align: middle;\n",
       "    }\n",
       "\n",
       "    .dataframe tbody tr th {\n",
       "        vertical-align: top;\n",
       "    }\n",
       "\n",
       "    .dataframe thead th {\n",
       "        text-align: right;\n",
       "    }\n",
       "</style>\n",
       "<table border=\"1\" class=\"dataframe\">\n",
       "  <thead>\n",
       "    <tr style=\"text-align: right;\">\n",
       "      <th></th>\n",
       "      <th>Date</th>\n",
       "      <th>Reviewer</th>\n",
       "      <th>Content</th>\n",
       "      <th>Rating</th>\n",
       "      <th>Label</th>\n",
       "    </tr>\n",
       "  </thead>\n",
       "  <tbody>\n",
       "    <tr>\n",
       "      <th>0</th>\n",
       "      <td>5/11/2021</td>\n",
       "      <td>Joyce of San Francisco</td>\n",
       "      <td>Every month, when my phone bill arrives, the c...</td>\n",
       "      <td>1</td>\n",
       "      <td>0</td>\n",
       "    </tr>\n",
       "    <tr>\n",
       "      <th>1</th>\n",
       "      <td>5/6/2021</td>\n",
       "      <td>Mohammed of Savannah</td>\n",
       "      <td>I have ordered home internet, and porting phon...</td>\n",
       "      <td>1</td>\n",
       "      <td>0</td>\n",
       "    </tr>\n",
       "    <tr>\n",
       "      <th>2</th>\n",
       "      <td>5/5/2021</td>\n",
       "      <td>David of Plano</td>\n",
       "      <td>I called in asking if I bought a phone if I ca...</td>\n",
       "      <td>1</td>\n",
       "      <td>0</td>\n",
       "    </tr>\n",
       "    <tr>\n",
       "      <th>3</th>\n",
       "      <td>5/1/2021</td>\n",
       "      <td>Jonel of Roanoke</td>\n",
       "      <td>AT&amp;T: The worst company in the world. I have b...</td>\n",
       "      <td>1</td>\n",
       "      <td>0</td>\n",
       "    </tr>\n",
       "    <tr>\n",
       "      <th>4</th>\n",
       "      <td>4/2/2021</td>\n",
       "      <td>Denis of Slidell</td>\n",
       "      <td>January 16th, 2021 I entered the AT&amp;T store in...</td>\n",
       "      <td>1</td>\n",
       "      <td>0</td>\n",
       "    </tr>\n",
       "  </tbody>\n",
       "</table>\n",
       "</div>"
      ],
      "text/plain": [
       "        Date                Reviewer  \\\n",
       "0  5/11/2021  Joyce of San Francisco   \n",
       "1   5/6/2021    Mohammed of Savannah   \n",
       "2   5/5/2021          David of Plano   \n",
       "3   5/1/2021        Jonel of Roanoke   \n",
       "4   4/2/2021        Denis of Slidell   \n",
       "\n",
       "                                             Content  Rating  Label  \n",
       "0  Every month, when my phone bill arrives, the c...       1      0  \n",
       "1  I have ordered home internet, and porting phon...       1      0  \n",
       "2  I called in asking if I bought a phone if I ca...       1      0  \n",
       "3  AT&T: The worst company in the world. I have b...       1      0  \n",
       "4  January 16th, 2021 I entered the AT&T store in...       1      0  "
      ]
     },
     "execution_count": 2,
     "metadata": {},
     "output_type": "execute_result"
    }
   ],
   "source": [
    "# Importing datasets\n",
    "\n",
    "att_train = pd.read_csv(\"att.csv\")\n",
    "att_test = pd.read_csv(\"atest.csv\")\n",
    "\n",
    "att_train.head()\n",
    "att_test.head()"
   ]
  },
  {
   "cell_type": "markdown",
   "id": "novel-attraction",
   "metadata": {},
   "source": [
    "**Supervised Sentiment Analysis Using Word Vectors**"
   ]
  },
  {
   "cell_type": "code",
   "execution_count": 9,
   "id": "abroad-viewer",
   "metadata": {},
   "outputs": [],
   "source": [
    "# Creating a function to train word vectors\n",
    "\n",
    "def train_wordvec(docs, vector_size = 100):\n",
    "    \n",
    "    wv_model = None\n",
    "    \n",
    "    # add your code here\n",
    "    \n",
    "    # Tokenize docs into tokens\n",
    "    sentences=[[token.strip(string.punctuation).strip() \\\n",
    "             for token in nltk.word_tokenize(doc.lower()) \\\n",
    "                 if token not in string.punctuation and \\\n",
    "                 len(token.strip(string.punctuation).strip())>=2]\\\n",
    "             for doc in docs]\n",
    "    \n",
    "    # logging information\n",
    "    logging.basicConfig(format='%(asctime)s : %(levelname)s : %(message)s', level=logging.INFO)\n",
    "    \n",
    "    # Using gensim package to train word vectors\n",
    "    wv_model = word2vec.Word2Vec(sentences, min_count=5, vector_size=100, window=5, workers=4)\n",
    "    \n",
    "    return wv_model"
   ]
  },
  {
   "cell_type": "code",
   "execution_count": 10,
   "id": "collectible-workplace",
   "metadata": {},
   "outputs": [
    {
     "name": "stderr",
     "output_type": "stream",
     "text": [
      "2021-06-15 00:42:00,519 : INFO : collecting all words and their counts\n",
      "2021-06-15 00:42:00,519 : INFO : PROGRESS: at sentence #0, processed 0 words, keeping 0 word types\n",
      "2021-06-15 00:42:00,647 : INFO : collected 16643 word types from a corpus of 826569 raw words and 4587 sentences\n",
      "2021-06-15 00:42:00,648 : INFO : Creating a fresh vocabulary\n",
      "2021-06-15 00:42:00,671 : INFO : Word2Vec lifecycle event {'msg': 'effective_min_count=5 retains 4820 unique words (28.96112479721204%% of original 16643, drops 11823)', 'datetime': '2021-06-15T00:42:00.670778', 'gensim': '4.0.1', 'python': '3.8.3 (default, Jul  2 2020, 17:30:36) [MSC v.1916 64 bit (AMD64)]', 'platform': 'Windows-10-10.0.19041-SP0', 'event': 'prepare_vocab'}\n",
      "2021-06-15 00:42:00,671 : INFO : Word2Vec lifecycle event {'msg': 'effective_min_count=5 leaves 808471 word corpus (97.8104671237368%% of original 826569, drops 18098)', 'datetime': '2021-06-15T00:42:00.671718', 'gensim': '4.0.1', 'python': '3.8.3 (default, Jul  2 2020, 17:30:36) [MSC v.1916 64 bit (AMD64)]', 'platform': 'Windows-10-10.0.19041-SP0', 'event': 'prepare_vocab'}\n",
      "2021-06-15 00:42:00,698 : INFO : deleting the raw counts dictionary of 16643 items\n",
      "2021-06-15 00:42:00,700 : INFO : sample=0.001 downsamples 73 most-common words\n",
      "2021-06-15 00:42:00,701 : INFO : Word2Vec lifecycle event {'msg': 'downsampling leaves estimated 578792.0501376127 word corpus (71.6%% of prior 808471)', 'datetime': '2021-06-15T00:42:00.700615', 'gensim': '4.0.1', 'python': '3.8.3 (default, Jul  2 2020, 17:30:36) [MSC v.1916 64 bit (AMD64)]', 'platform': 'Windows-10-10.0.19041-SP0', 'event': 'prepare_vocab'}\n",
      "2021-06-15 00:42:00,743 : INFO : estimated required memory for 4820 words and 100 dimensions: 6266000 bytes\n",
      "2021-06-15 00:42:00,743 : INFO : resetting layer weights\n",
      "2021-06-15 00:42:00,746 : INFO : Word2Vec lifecycle event {'update': False, 'trim_rule': 'None', 'datetime': '2021-06-15T00:42:00.746464', 'gensim': '4.0.1', 'python': '3.8.3 (default, Jul  2 2020, 17:30:36) [MSC v.1916 64 bit (AMD64)]', 'platform': 'Windows-10-10.0.19041-SP0', 'event': 'build_vocab'}\n",
      "2021-06-15 00:42:00,747 : INFO : Word2Vec lifecycle event {'msg': 'training model with 4 workers on 4820 vocabulary and 100 features, using sg=0 hs=0 sample=0.001 negative=5 window=5', 'datetime': '2021-06-15T00:42:00.747459', 'gensim': '4.0.1', 'python': '3.8.3 (default, Jul  2 2020, 17:30:36) [MSC v.1916 64 bit (AMD64)]', 'platform': 'Windows-10-10.0.19041-SP0', 'event': 'train'}\n",
      "2021-06-15 00:42:00,988 : INFO : worker thread finished; awaiting finish of 3 more threads\n",
      "2021-06-15 00:42:00,988 : INFO : worker thread finished; awaiting finish of 2 more threads\n",
      "2021-06-15 00:42:00,988 : INFO : worker thread finished; awaiting finish of 1 more threads\n",
      "2021-06-15 00:42:00,994 : INFO : worker thread finished; awaiting finish of 0 more threads\n",
      "2021-06-15 00:42:00,995 : INFO : EPOCH - 1 : training on 826569 raw words (578441 effective words) took 0.2s, 2361781 effective words/s\n",
      "2021-06-15 00:42:01,214 : INFO : worker thread finished; awaiting finish of 3 more threads\n",
      "2021-06-15 00:42:01,214 : INFO : worker thread finished; awaiting finish of 2 more threads\n",
      "2021-06-15 00:42:01,214 : INFO : worker thread finished; awaiting finish of 1 more threads\n",
      "2021-06-15 00:42:01,231 : INFO : worker thread finished; awaiting finish of 0 more threads\n",
      "2021-06-15 00:42:01,231 : INFO : EPOCH - 2 : training on 826569 raw words (578472 effective words) took 0.2s, 2465980 effective words/s\n",
      "2021-06-15 00:42:01,456 : INFO : worker thread finished; awaiting finish of 3 more threads\n",
      "2021-06-15 00:42:01,472 : INFO : worker thread finished; awaiting finish of 2 more threads\n",
      "2021-06-15 00:42:01,472 : INFO : worker thread finished; awaiting finish of 1 more threads\n",
      "2021-06-15 00:42:01,477 : INFO : worker thread finished; awaiting finish of 0 more threads\n",
      "2021-06-15 00:42:01,477 : INFO : EPOCH - 3 : training on 826569 raw words (578963 effective words) took 0.2s, 2378985 effective words/s\n",
      "2021-06-15 00:42:01,726 : INFO : worker thread finished; awaiting finish of 3 more threads\n",
      "2021-06-15 00:42:01,726 : INFO : worker thread finished; awaiting finish of 2 more threads\n",
      "2021-06-15 00:42:01,726 : INFO : worker thread finished; awaiting finish of 1 more threads\n",
      "2021-06-15 00:42:01,726 : INFO : worker thread finished; awaiting finish of 0 more threads\n",
      "2021-06-15 00:42:01,726 : INFO : EPOCH - 4 : training on 826569 raw words (578839 effective words) took 0.3s, 2291625 effective words/s\n",
      "2021-06-15 00:42:01,974 : INFO : worker thread finished; awaiting finish of 3 more threads\n",
      "2021-06-15 00:42:01,975 : INFO : worker thread finished; awaiting finish of 2 more threads\n",
      "2021-06-15 00:42:01,976 : INFO : worker thread finished; awaiting finish of 1 more threads\n",
      "2021-06-15 00:42:01,981 : INFO : worker thread finished; awaiting finish of 0 more threads\n",
      "2021-06-15 00:42:01,982 : INFO : EPOCH - 5 : training on 826569 raw words (578330 effective words) took 0.2s, 2335943 effective words/s\n",
      "2021-06-15 00:42:01,982 : INFO : Word2Vec lifecycle event {'msg': 'training on 4132845 raw words (2893045 effective words) took 1.2s, 2342604 effective words/s', 'datetime': '2021-06-15T00:42:01.982245', 'gensim': '4.0.1', 'python': '3.8.3 (default, Jul  2 2020, 17:30:36) [MSC v.1916 64 bit (AMD64)]', 'platform': 'Windows-10-10.0.19041-SP0', 'event': 'train'}\n",
      "2021-06-15 00:42:01,983 : INFO : Word2Vec lifecycle event {'params': 'Word2Vec(vocab=4820, vector_size=100, alpha=0.025)', 'datetime': '2021-06-15T00:42:01.983243', 'gensim': '4.0.1', 'python': '3.8.3 (default, Jul  2 2020, 17:30:36) [MSC v.1916 64 bit (AMD64)]', 'platform': 'Windows-10-10.0.19041-SP0', 'event': 'created'}\n"
     ]
    }
   ],
   "source": [
    "wv_model = train_wordvec(att_train[\"Content\"], vector_size = 100)"
   ]
  },
  {
   "cell_type": "code",
   "execution_count": 11,
   "id": "armed-memory",
   "metadata": {},
   "outputs": [],
   "source": [
    "# Creating a function to generate vector representation of documents\n",
    "\n",
    "def generate_doc_vector(docs, wv_model):\n",
    "    \n",
    "    vectors = None\n",
    "    \n",
    "    # add your code here\n",
    "    \n",
    "    # Tokenize each document doc in docs into tokens\n",
    "    doc =[[token.strip(string.punctuation).strip() \\\n",
    "             for token in nltk.word_tokenize(doc.lower()) \\\n",
    "                 if token not in string.punctuation and \\\n",
    "                 len(token.strip(string.punctuation).strip())>=2]\\\n",
    "             for doc in docs]\n",
    "\n",
    "    # looking for word vector in wv_model for each token in doc\n",
    "    wv_in_model = [[wv_model.wv[token] for token in lists if token in wv_model.wv.key_to_index]for lists in doc]\n",
    "    \n",
    "    # Certain vectors were empty hence added np.zeros(100) to avoid error\n",
    "    # Calculating document vector (d) mean of word vector of its token\n",
    "    d = []\n",
    "    \n",
    "    for w_vec in wv_in_model:\n",
    "        if w_vec == []:\n",
    "            d.append(np.zeros(100))\n",
    "        else:\n",
    "            d.append(np.vstack(w_vec).mean(axis=0))\n",
    "    \n",
    "    # Vector representation\n",
    "    vectors = np.array(d)\n",
    "    \n",
    "    print(vectors.shape)\n",
    "    return vectors"
   ]
  },
  {
   "cell_type": "code",
   "execution_count": 12,
   "id": "chemical-cleaning",
   "metadata": {},
   "outputs": [
    {
     "name": "stdout",
     "output_type": "stream",
     "text": [
      "(4587, 100)\n",
      "(38, 100)\n"
     ]
    }
   ],
   "source": [
    "train_X = generate_doc_vector(att_train[\"Content\"], wv_model)\n",
    "test_X = generate_doc_vector(att_test[\"Content\"], wv_model)"
   ]
  },
  {
   "cell_type": "markdown",
   "id": "rocky-karma",
   "metadata": {},
   "source": [
    "**METHOD 1: SUPPORT VECTOR MACHINE**"
   ]
  },
  {
   "cell_type": "markdown",
   "id": "artistic-analyst",
   "metadata": {},
   "source": [
    "**Algorithm and Performance Evaluation**"
   ]
  },
  {
   "cell_type": "code",
   "execution_count": 25,
   "id": "distributed-wisconsin",
   "metadata": {},
   "outputs": [],
   "source": [
    "# Creating a function to predict sentiments using support vector machine algorithm\n",
    "# Evaluating performance\n",
    "\n",
    "def predict_sentiment(train_text, train_label, test_text, test_label, vector_size = 100):\n",
    "    \n",
    "    # add your code here\n",
    "    \n",
    "    # Calling train_wordvec to train a word vector\n",
    "    train_wordvec(train_text, 100)\n",
    "    \n",
    "    # Calling generate_doc_vector to generate vector representations\n",
    "    train_X = generate_doc_vector(train_text,wv_model)\n",
    "    \n",
    "    # Calling generate_doc_vector to generate vector representations\n",
    "    test_X = generate_doc_vector(test_text,wv_model)\n",
    "    \n",
    "    # Initiate a linear SVM model\n",
    "    clf = svm.LinearSVC(max_iter=5000)\n",
    "    \n",
    "    # Train a SVM model\n",
    "    clf.fit(train_X, train_label)\n",
    "    \n",
    "    # Predict for the test dataset\n",
    "    predicted=clf.predict(test_X)\n",
    "    \n",
    "    # Create a dataframe with sentiment and ground truth label\n",
    "    confusion_df = pd.DataFrame(list(zip(test_label.values, predicted)), columns = [\"label\", \"sentiment\"])\n",
    "    confusion_df.head()\n",
    "\n",
    "    # generate crosstab between sentiment and true labels\n",
    "    att_ctab = pd.crosstab(index=confusion_df.sentiment, columns=confusion_df.label)\n",
    "    print(att_ctab)\n",
    "    \n",
    "    # Calculate performance metrics\n",
    "    print(classification_report(test_label, predicted))\n",
    "    \n",
    "    return None"
   ]
  },
  {
   "cell_type": "code",
   "execution_count": 26,
   "id": "sound-organization",
   "metadata": {},
   "outputs": [
    {
     "name": "stderr",
     "output_type": "stream",
     "text": [
      "2021-06-15 03:46:19,919 : INFO : collecting all words and their counts\n",
      "2021-06-15 03:46:19,921 : INFO : PROGRESS: at sentence #0, processed 0 words, keeping 0 word types\n",
      "2021-06-15 03:46:20,050 : INFO : collected 16643 word types from a corpus of 826569 raw words and 4587 sentences\n",
      "2021-06-15 03:46:20,051 : INFO : Creating a fresh vocabulary\n",
      "2021-06-15 03:46:20,073 : INFO : Word2Vec lifecycle event {'msg': 'effective_min_count=5 retains 4820 unique words (28.96112479721204%% of original 16643, drops 11823)', 'datetime': '2021-06-15T03:46:20.073753', 'gensim': '4.0.1', 'python': '3.8.3 (default, Jul  2 2020, 17:30:36) [MSC v.1916 64 bit (AMD64)]', 'platform': 'Windows-10-10.0.19041-SP0', 'event': 'prepare_vocab'}\n",
      "2021-06-15 03:46:20,074 : INFO : Word2Vec lifecycle event {'msg': 'effective_min_count=5 leaves 808471 word corpus (97.8104671237368%% of original 826569, drops 18098)', 'datetime': '2021-06-15T03:46:20.074761', 'gensim': '4.0.1', 'python': '3.8.3 (default, Jul  2 2020, 17:30:36) [MSC v.1916 64 bit (AMD64)]', 'platform': 'Windows-10-10.0.19041-SP0', 'event': 'prepare_vocab'}\n",
      "2021-06-15 03:46:20,103 : INFO : deleting the raw counts dictionary of 16643 items\n",
      "2021-06-15 03:46:20,104 : INFO : sample=0.001 downsamples 73 most-common words\n",
      "2021-06-15 03:46:20,105 : INFO : Word2Vec lifecycle event {'msg': 'downsampling leaves estimated 578792.0501376127 word corpus (71.6%% of prior 808471)', 'datetime': '2021-06-15T03:46:20.105646', 'gensim': '4.0.1', 'python': '3.8.3 (default, Jul  2 2020, 17:30:36) [MSC v.1916 64 bit (AMD64)]', 'platform': 'Windows-10-10.0.19041-SP0', 'event': 'prepare_vocab'}\n",
      "2021-06-15 03:46:20,151 : INFO : estimated required memory for 4820 words and 100 dimensions: 6266000 bytes\n",
      "2021-06-15 03:46:20,152 : INFO : resetting layer weights\n",
      "2021-06-15 03:46:20,155 : INFO : Word2Vec lifecycle event {'update': False, 'trim_rule': 'None', 'datetime': '2021-06-15T03:46:20.155481', 'gensim': '4.0.1', 'python': '3.8.3 (default, Jul  2 2020, 17:30:36) [MSC v.1916 64 bit (AMD64)]', 'platform': 'Windows-10-10.0.19041-SP0', 'event': 'build_vocab'}\n",
      "2021-06-15 03:46:20,156 : INFO : Word2Vec lifecycle event {'msg': 'training model with 4 workers on 4820 vocabulary and 100 features, using sg=0 hs=0 sample=0.001 negative=5 window=5', 'datetime': '2021-06-15T03:46:20.156478', 'gensim': '4.0.1', 'python': '3.8.3 (default, Jul  2 2020, 17:30:36) [MSC v.1916 64 bit (AMD64)]', 'platform': 'Windows-10-10.0.19041-SP0', 'event': 'train'}\n",
      "2021-06-15 03:46:20,399 : INFO : worker thread finished; awaiting finish of 3 more threads\n",
      "2021-06-15 03:46:20,400 : INFO : worker thread finished; awaiting finish of 2 more threads\n",
      "2021-06-15 03:46:20,401 : INFO : worker thread finished; awaiting finish of 1 more threads\n",
      "2021-06-15 03:46:20,406 : INFO : worker thread finished; awaiting finish of 0 more threads\n",
      "2021-06-15 03:46:20,406 : INFO : EPOCH - 1 : training on 826569 raw words (579236 effective words) took 0.2s, 2348957 effective words/s\n",
      "2021-06-15 03:46:20,643 : INFO : worker thread finished; awaiting finish of 3 more threads\n",
      "2021-06-15 03:46:20,644 : INFO : worker thread finished; awaiting finish of 2 more threads\n",
      "2021-06-15 03:46:20,646 : INFO : worker thread finished; awaiting finish of 1 more threads\n",
      "2021-06-15 03:46:20,649 : INFO : worker thread finished; awaiting finish of 0 more threads\n",
      "2021-06-15 03:46:20,649 : INFO : EPOCH - 2 : training on 826569 raw words (578460 effective words) took 0.2s, 2400918 effective words/s\n",
      "2021-06-15 03:46:20,896 : INFO : worker thread finished; awaiting finish of 3 more threads\n",
      "2021-06-15 03:46:20,897 : INFO : worker thread finished; awaiting finish of 2 more threads\n",
      "2021-06-15 03:46:20,900 : INFO : worker thread finished; awaiting finish of 1 more threads\n",
      "2021-06-15 03:46:20,903 : INFO : worker thread finished; awaiting finish of 0 more threads\n",
      "2021-06-15 03:46:20,903 : INFO : EPOCH - 3 : training on 826569 raw words (578881 effective words) took 0.3s, 2296737 effective words/s\n",
      "2021-06-15 03:46:21,154 : INFO : worker thread finished; awaiting finish of 3 more threads\n",
      "2021-06-15 03:46:21,156 : INFO : worker thread finished; awaiting finish of 2 more threads\n",
      "2021-06-15 03:46:21,158 : INFO : worker thread finished; awaiting finish of 1 more threads\n",
      "2021-06-15 03:46:21,161 : INFO : worker thread finished; awaiting finish of 0 more threads\n",
      "2021-06-15 03:46:21,161 : INFO : EPOCH - 4 : training on 826569 raw words (578784 effective words) took 0.3s, 2268261 effective words/s\n",
      "2021-06-15 03:46:21,407 : INFO : worker thread finished; awaiting finish of 3 more threads\n",
      "2021-06-15 03:46:21,408 : INFO : worker thread finished; awaiting finish of 2 more threads\n",
      "2021-06-15 03:46:21,408 : INFO : worker thread finished; awaiting finish of 1 more threads\n",
      "2021-06-15 03:46:21,414 : INFO : worker thread finished; awaiting finish of 0 more threads\n",
      "2021-06-15 03:46:21,415 : INFO : EPOCH - 5 : training on 826569 raw words (578671 effective words) took 0.3s, 2305719 effective words/s\n",
      "2021-06-15 03:46:21,415 : INFO : Word2Vec lifecycle event {'msg': 'training on 4132845 raw words (2894032 effective words) took 1.3s, 2299896 effective words/s', 'datetime': '2021-06-15T03:46:21.415295', 'gensim': '4.0.1', 'python': '3.8.3 (default, Jul  2 2020, 17:30:36) [MSC v.1916 64 bit (AMD64)]', 'platform': 'Windows-10-10.0.19041-SP0', 'event': 'train'}\n",
      "2021-06-15 03:46:21,415 : INFO : Word2Vec lifecycle event {'params': 'Word2Vec(vocab=4820, vector_size=100, alpha=0.025)', 'datetime': '2021-06-15T03:46:21.415295', 'gensim': '4.0.1', 'python': '3.8.3 (default, Jul  2 2020, 17:30:36) [MSC v.1916 64 bit (AMD64)]', 'platform': 'Windows-10-10.0.19041-SP0', 'event': 'created'}\n",
      "2021-06-15 03:46:29,747 : INFO : NumExpr defaulting to 8 threads.\n"
     ]
    },
    {
     "name": "stdout",
     "output_type": "stream",
     "text": [
      "(4587, 100)\n",
      "(38, 100)\n",
      "label       0\n",
      "sentiment    \n",
      "0          38\n",
      "              precision    recall  f1-score   support\n",
      "\n",
      "           0       1.00      1.00      1.00        38\n",
      "\n",
      "    accuracy                           1.00        38\n",
      "   macro avg       1.00      1.00      1.00        38\n",
      "weighted avg       1.00      1.00      1.00        38\n",
      "\n"
     ]
    }
   ],
   "source": [
    "predict_sentiment(att_train[\"Content\"], att_train[\"Label\"],\\\n",
    "                  att_test[\"Content\"], att_test[\"Label\"],\\\n",
    "                  vector_size = 100)"
   ]
  },
  {
   "cell_type": "markdown",
   "id": "handmade-scene",
   "metadata": {},
   "source": [
    "**Performance Evaluation - Support Vector Machine (AT&T)**\n",
    "\n",
    "*The performance evaluation result generated through Support Vector Machine Model shows that the f1-score and weighted average for AT&T is 1.00. This means that the sentiment predicted for all the testing dataset is correct.*"
   ]
  },
  {
   "cell_type": "markdown",
   "id": "included-hygiene",
   "metadata": {},
   "source": [
    "**Confusion Matrix - Support Vector Machine (AT&T)**\n",
    "\n",
    "*The testing dataset consisted of 38 negative reviews. Through Support Vector Machine method, all the reviews were predicted correctly.*"
   ]
  },
  {
   "cell_type": "markdown",
   "id": "narrative-hospital",
   "metadata": {},
   "source": [
    "**METHOD 2: NAIVE BAYES**"
   ]
  },
  {
   "cell_type": "markdown",
   "id": "adjacent-falls",
   "metadata": {},
   "source": [
    "**Algorithm and Performance Evaluation**"
   ]
  },
  {
   "cell_type": "code",
   "execution_count": 27,
   "id": "mounted-background",
   "metadata": {},
   "outputs": [],
   "source": [
    "# Creating a function to predict sentiments using support vector machine algorithm\n",
    "# Evaluating performance\n",
    "\n",
    "def predict_sentiment(train_text, train_label, test_text, test_label, vector_size = 100):\n",
    "    \n",
    "    # add your code here\n",
    "    \n",
    "    # Calling train_wordvec to train a word vector\n",
    "    train_wordvec(train_text, 100)\n",
    "    \n",
    "    # Calling generate_doc_vector to generate vector representations\n",
    "    train_X = generate_doc_vector(train_text,wv_model)\n",
    "    \n",
    "    # Calling generate_doc_vector to generate vector representations\n",
    "    test_X = generate_doc_vector(test_text,wv_model)\n",
    "    \n",
    "    # Initiate a MinMaxScaler\n",
    "    scaler = MinMaxScaler()\n",
    "    \n",
    "    # Fit and Transform the training data into MinMaxScaler\n",
    "    train_x = scaler.fit_transform(train_X)\n",
    "    \n",
    "    # Fit and Transform the testing data into MinMaxScaler\n",
    "    test_x = scaler.fit_transform(test_X)\n",
    "    \n",
    "    # Initiate a MultinomialNB model\n",
    "    # Train a multinomial naive Bayes model using the testing data\n",
    "    clf = MultinomialNB().fit(train_x, train_label)\n",
    "    \n",
    "    # Predict for the test dataset\n",
    "    predicted=clf.predict(test_x)\n",
    "    \n",
    "    # Create a dataframe with sentiment and ground truth label\n",
    "    confusion_df = pd.DataFrame(list(zip(test_label.values, predicted)), columns = [\"label\", \"sentiment\"])\n",
    "    confusion_df.head()\n",
    "\n",
    "    # generate crosstab between sentiment and true labels\n",
    "    att_ctab = pd.crosstab(index=confusion_df.sentiment, columns=confusion_df.label)\n",
    "    print(att_ctab)   \n",
    "    \n",
    "    # Calculate performance metrics\n",
    "    print(classification_report(test_label, predicted))\n",
    "    \n",
    "    return None"
   ]
  },
  {
   "cell_type": "code",
   "execution_count": 28,
   "id": "rising-excellence",
   "metadata": {
    "scrolled": true
   },
   "outputs": [
    {
     "name": "stderr",
     "output_type": "stream",
     "text": [
      "2021-06-15 03:47:31,975 : INFO : collecting all words and their counts\n",
      "2021-06-15 03:47:31,976 : INFO : PROGRESS: at sentence #0, processed 0 words, keeping 0 word types\n",
      "2021-06-15 03:47:32,093 : INFO : collected 16643 word types from a corpus of 826569 raw words and 4587 sentences\n",
      "2021-06-15 03:47:32,094 : INFO : Creating a fresh vocabulary\n",
      "2021-06-15 03:47:32,116 : INFO : Word2Vec lifecycle event {'msg': 'effective_min_count=5 retains 4820 unique words (28.96112479721204%% of original 16643, drops 11823)', 'datetime': '2021-06-15T03:47:32.116174', 'gensim': '4.0.1', 'python': '3.8.3 (default, Jul  2 2020, 17:30:36) [MSC v.1916 64 bit (AMD64)]', 'platform': 'Windows-10-10.0.19041-SP0', 'event': 'prepare_vocab'}\n",
      "2021-06-15 03:47:32,117 : INFO : Word2Vec lifecycle event {'msg': 'effective_min_count=5 leaves 808471 word corpus (97.8104671237368%% of original 826569, drops 18098)', 'datetime': '2021-06-15T03:47:32.117172', 'gensim': '4.0.1', 'python': '3.8.3 (default, Jul  2 2020, 17:30:36) [MSC v.1916 64 bit (AMD64)]', 'platform': 'Windows-10-10.0.19041-SP0', 'event': 'prepare_vocab'}\n",
      "2021-06-15 03:47:32,145 : INFO : deleting the raw counts dictionary of 16643 items\n",
      "2021-06-15 03:47:32,146 : INFO : sample=0.001 downsamples 73 most-common words\n",
      "2021-06-15 03:47:32,146 : INFO : Word2Vec lifecycle event {'msg': 'downsampling leaves estimated 578792.0501376127 word corpus (71.6%% of prior 808471)', 'datetime': '2021-06-15T03:47:32.146093', 'gensim': '4.0.1', 'python': '3.8.3 (default, Jul  2 2020, 17:30:36) [MSC v.1916 64 bit (AMD64)]', 'platform': 'Windows-10-10.0.19041-SP0', 'event': 'prepare_vocab'}\n",
      "2021-06-15 03:47:32,189 : INFO : estimated required memory for 4820 words and 100 dimensions: 6266000 bytes\n",
      "2021-06-15 03:47:32,190 : INFO : resetting layer weights\n",
      "2021-06-15 03:47:32,193 : INFO : Word2Vec lifecycle event {'update': False, 'trim_rule': 'None', 'datetime': '2021-06-15T03:47:32.193925', 'gensim': '4.0.1', 'python': '3.8.3 (default, Jul  2 2020, 17:30:36) [MSC v.1916 64 bit (AMD64)]', 'platform': 'Windows-10-10.0.19041-SP0', 'event': 'build_vocab'}\n",
      "2021-06-15 03:47:32,193 : INFO : Word2Vec lifecycle event {'msg': 'training model with 4 workers on 4820 vocabulary and 100 features, using sg=0 hs=0 sample=0.001 negative=5 window=5', 'datetime': '2021-06-15T03:47:32.193925', 'gensim': '4.0.1', 'python': '3.8.3 (default, Jul  2 2020, 17:30:36) [MSC v.1916 64 bit (AMD64)]', 'platform': 'Windows-10-10.0.19041-SP0', 'event': 'train'}\n",
      "2021-06-15 03:47:32,446 : INFO : worker thread finished; awaiting finish of 3 more threads\n",
      "2021-06-15 03:47:32,447 : INFO : worker thread finished; awaiting finish of 2 more threads\n",
      "2021-06-15 03:47:32,449 : INFO : worker thread finished; awaiting finish of 1 more threads\n",
      "2021-06-15 03:47:32,452 : INFO : worker thread finished; awaiting finish of 0 more threads\n",
      "2021-06-15 03:47:32,452 : INFO : EPOCH - 1 : training on 826569 raw words (579207 effective words) took 0.3s, 2253784 effective words/s\n",
      "2021-06-15 03:47:32,690 : INFO : worker thread finished; awaiting finish of 3 more threads\n",
      "2021-06-15 03:47:32,690 : INFO : worker thread finished; awaiting finish of 2 more threads\n",
      "2021-06-15 03:47:32,693 : INFO : worker thread finished; awaiting finish of 1 more threads\n",
      "2021-06-15 03:47:32,695 : INFO : worker thread finished; awaiting finish of 0 more threads\n",
      "2021-06-15 03:47:32,696 : INFO : EPOCH - 2 : training on 826569 raw words (578671 effective words) took 0.2s, 2406557 effective words/s\n",
      "2021-06-15 03:47:32,936 : INFO : worker thread finished; awaiting finish of 3 more threads\n",
      "2021-06-15 03:47:32,937 : INFO : worker thread finished; awaiting finish of 2 more threads\n",
      "2021-06-15 03:47:32,938 : INFO : worker thread finished; awaiting finish of 1 more threads\n",
      "2021-06-15 03:47:32,943 : INFO : worker thread finished; awaiting finish of 0 more threads\n",
      "2021-06-15 03:47:32,944 : INFO : EPOCH - 3 : training on 826569 raw words (578712 effective words) took 0.2s, 2354321 effective words/s\n",
      "2021-06-15 03:47:33,178 : INFO : worker thread finished; awaiting finish of 3 more threads\n",
      "2021-06-15 03:47:33,178 : INFO : worker thread finished; awaiting finish of 2 more threads\n",
      "2021-06-15 03:47:33,182 : INFO : worker thread finished; awaiting finish of 1 more threads\n",
      "2021-06-15 03:47:33,184 : INFO : worker thread finished; awaiting finish of 0 more threads\n",
      "2021-06-15 03:47:33,184 : INFO : EPOCH - 4 : training on 826569 raw words (578601 effective words) took 0.2s, 2427852 effective words/s\n",
      "2021-06-15 03:47:33,463 : INFO : worker thread finished; awaiting finish of 3 more threads\n",
      "2021-06-15 03:47:33,464 : INFO : worker thread finished; awaiting finish of 2 more threads\n",
      "2021-06-15 03:47:33,464 : INFO : worker thread finished; awaiting finish of 1 more threads\n",
      "2021-06-15 03:47:33,471 : INFO : worker thread finished; awaiting finish of 0 more threads\n",
      "2021-06-15 03:47:33,472 : INFO : EPOCH - 5 : training on 826569 raw words (578651 effective words) took 0.3s, 2027538 effective words/s\n",
      "2021-06-15 03:47:33,472 : INFO : Word2Vec lifecycle event {'msg': 'training on 4132845 raw words (2893842 effective words) took 1.3s, 2263668 effective words/s', 'datetime': '2021-06-15T03:47:33.472451', 'gensim': '4.0.1', 'python': '3.8.3 (default, Jul  2 2020, 17:30:36) [MSC v.1916 64 bit (AMD64)]', 'platform': 'Windows-10-10.0.19041-SP0', 'event': 'train'}\n",
      "2021-06-15 03:47:33,473 : INFO : Word2Vec lifecycle event {'params': 'Word2Vec(vocab=4820, vector_size=100, alpha=0.025)', 'datetime': '2021-06-15T03:47:33.473448', 'gensim': '4.0.1', 'python': '3.8.3 (default, Jul  2 2020, 17:30:36) [MSC v.1916 64 bit (AMD64)]', 'platform': 'Windows-10-10.0.19041-SP0', 'event': 'created'}\n"
     ]
    },
    {
     "name": "stdout",
     "output_type": "stream",
     "text": [
      "(4587, 100)\n",
      "(38, 100)\n",
      "label       0\n",
      "sentiment    \n",
      "0          33\n",
      "1           5\n",
      "              precision    recall  f1-score   support\n",
      "\n",
      "           0       1.00      0.87      0.93        38\n",
      "           1       0.00      0.00      0.00         0\n",
      "\n",
      "    accuracy                           0.87        38\n",
      "   macro avg       0.50      0.43      0.46        38\n",
      "weighted avg       1.00      0.87      0.93        38\n",
      "\n"
     ]
    },
    {
     "name": "stderr",
     "output_type": "stream",
     "text": [
      "C:\\Users\\ankit\\anaconda3\\lib\\site-packages\\sklearn\\metrics\\_classification.py:1245: UndefinedMetricWarning: Recall and F-score are ill-defined and being set to 0.0 in labels with no true samples. Use `zero_division` parameter to control this behavior.\n",
      "  _warn_prf(average, modifier, msg_start, len(result))\n",
      "C:\\Users\\ankit\\anaconda3\\lib\\site-packages\\sklearn\\metrics\\_classification.py:1245: UndefinedMetricWarning: Recall and F-score are ill-defined and being set to 0.0 in labels with no true samples. Use `zero_division` parameter to control this behavior.\n",
      "  _warn_prf(average, modifier, msg_start, len(result))\n",
      "C:\\Users\\ankit\\anaconda3\\lib\\site-packages\\sklearn\\metrics\\_classification.py:1245: UndefinedMetricWarning: Recall and F-score are ill-defined and being set to 0.0 in labels with no true samples. Use `zero_division` parameter to control this behavior.\n",
      "  _warn_prf(average, modifier, msg_start, len(result))\n"
     ]
    }
   ],
   "source": [
    "predict_sentiment(att_train[\"Content\"], att_train[\"Label\"],\\\n",
    "                  att_test[\"Content\"], att_test[\"Label\"],\\\n",
    "                  vector_size = 100)"
   ]
  },
  {
   "cell_type": "markdown",
   "id": "architectural-recruitment",
   "metadata": {},
   "source": [
    "**PERFORMANCE EVALUATION**"
   ]
  },
  {
   "cell_type": "markdown",
   "id": "coordinated-bouquet",
   "metadata": {},
   "source": [
    "**Performance Evaluation - Naive Bayes (AT&T)**\n",
    "\n",
    "*The performance evaluation result generated through Naive Bayes Model shows that the f1-score and weighted average for AT&T is 0.91.*"
   ]
  },
  {
   "cell_type": "markdown",
   "id": "concrete-prior",
   "metadata": {},
   "source": [
    "**Confusion Matrix - Naive Bayes (AT&T)**\n",
    "\n",
    "*The testing dataset consisted of 38 negative reviews. Through Naive Bayes method, 33 reviews were predicted correctly and 5 reviews were predicted incorrectly.*"
   ]
  },
  {
   "cell_type": "markdown",
   "id": "black-milan",
   "metadata": {},
   "source": [
    "**MODEL COMPARISON**"
   ]
  },
  {
   "cell_type": "markdown",
   "id": "automated-cemetery",
   "metadata": {},
   "source": [
    "**Comparing Support Vector Machine and Naive Bayes Method**"
   ]
  },
  {
   "cell_type": "code",
   "execution_count": 14,
   "id": "composed-connection",
   "metadata": {},
   "outputs": [],
   "source": [
    "f1_Score_Weighted_Average = [1.00, 0.93]"
   ]
  },
  {
   "cell_type": "code",
   "execution_count": 15,
   "id": "vanilla-parade",
   "metadata": {},
   "outputs": [],
   "source": [
    "Method = ['Support Vector Machine', 'Naive Bayes']"
   ]
  },
  {
   "cell_type": "code",
   "execution_count": 18,
   "id": "collected-convergence",
   "metadata": {},
   "outputs": [
    {
     "data": {
      "text/plain": [
       "<BarContainer object of 2 artists>"
      ]
     },
     "execution_count": 18,
     "metadata": {},
     "output_type": "execute_result"
    },
    {
     "data": {
      "text/plain": [
       "Text(0.5, 1.0, 'Method and thier respective f1-score for AT&T')"
      ]
     },
     "execution_count": 18,
     "metadata": {},
     "output_type": "execute_result"
    },
    {
     "data": {
      "text/plain": [
       "Text(0.5, 0, 'Method')"
      ]
     },
     "execution_count": 18,
     "metadata": {},
     "output_type": "execute_result"
    },
    {
     "data": {
      "text/plain": [
       "Text(0, 0.5, 'f1-score')"
      ]
     },
     "execution_count": 18,
     "metadata": {},
     "output_type": "execute_result"
    },
    {
     "data": {
      "image/png": "[encoded data removed]",
      "text/plain": [
       "<Figure size 432x288 with 1 Axes>"
      ]
     },
     "metadata": {
      "needs_background": "light"
     },
     "output_type": "display_data"
    }
   ],
   "source": [
    "New_Colors = ['green', 'brown']\n",
    "plt.bar(Method, f1_Score_Weighted_Average, color=New_Colors)\n",
    "plt.title('Method and thier respective f1-score for AT&T')\n",
    "plt.xlabel('Method')\n",
    "plt.ylabel('f1-score')\n",
    "plt.grid(True)\n",
    "plt.show()"
   ]
  },
  {
   "cell_type": "markdown",
   "id": "mechanical-offering",
   "metadata": {},
   "source": [
    "*Support Vector Machine model performs better than Naive Bayes model. The weighted average f1-score by Support Vector Machine method is 1.0 and through Naive Bayes method is 0.93.*"
   ]
  },
  {
   "cell_type": "markdown",
   "id": "electoral-journalism",
   "metadata": {},
   "source": [
    "## **SENTIMENT ANALYSIS OF VERIZON**"
   ]
  },
  {
   "cell_type": "markdown",
   "id": "blessed-agreement",
   "metadata": {},
   "source": [
    "**Dataset required for our analysis**\n",
    "\n",
    "**verizon.csv:** Dataset for Training  \n",
    "**vtest.csv:** Dataset for Testing"
   ]
  },
  {
   "cell_type": "code",
   "execution_count": 11,
   "id": "conservative-horse",
   "metadata": {},
   "outputs": [
    {
     "data": {
      "text/html": [
       "<div>\n",
       "<style scoped>\n",
       "    .dataframe tbody tr th:only-of-type {\n",
       "        vertical-align: middle;\n",
       "    }\n",
       "\n",
       "    .dataframe tbody tr th {\n",
       "        vertical-align: top;\n",
       "    }\n",
       "\n",
       "    .dataframe thead th {\n",
       "        text-align: right;\n",
       "    }\n",
       "</style>\n",
       "<table border=\"1\" class=\"dataframe\">\n",
       "  <thead>\n",
       "    <tr style=\"text-align: right;\">\n",
       "      <th></th>\n",
       "      <th>Date</th>\n",
       "      <th>Reviewer</th>\n",
       "      <th>Content</th>\n",
       "      <th>Rating</th>\n",
       "      <th>Label</th>\n",
       "    </tr>\n",
       "  </thead>\n",
       "  <tbody>\n",
       "    <tr>\n",
       "      <th>0</th>\n",
       "      <td>11/3/2020</td>\n",
       "      <td>Sonia of Lynn</td>\n",
       "      <td>This morning I had the pleasure of speaking wi...</td>\n",
       "      <td>5</td>\n",
       "      <td>1</td>\n",
       "    </tr>\n",
       "    <tr>\n",
       "      <th>1</th>\n",
       "      <td>9/3/2020</td>\n",
       "      <td>Amy of Jacksonville</td>\n",
       "      <td>I Live in Florida and was visiting in Georgia....</td>\n",
       "      <td>5</td>\n",
       "      <td>1</td>\n",
       "    </tr>\n",
       "    <tr>\n",
       "      <th>2</th>\n",
       "      <td>8/12/2020</td>\n",
       "      <td>Judy of Asheville</td>\n",
       "      <td>My husband and I were surprisingly pleased wit...</td>\n",
       "      <td>5</td>\n",
       "      <td>1</td>\n",
       "    </tr>\n",
       "    <tr>\n",
       "      <th>3</th>\n",
       "      <td>8/12/2020</td>\n",
       "      <td>Sarah of Lawndale</td>\n",
       "      <td>hours on the phone with Verizon and Asurion. B...</td>\n",
       "      <td>5</td>\n",
       "      <td>1</td>\n",
       "    </tr>\n",
       "    <tr>\n",
       "      <th>4</th>\n",
       "      <td>11/29/2020</td>\n",
       "      <td>Jody of Bentonville</td>\n",
       "      <td>Resolution response:  Verizon finally came thr...</td>\n",
       "      <td>0</td>\n",
       "      <td>0</td>\n",
       "    </tr>\n",
       "  </tbody>\n",
       "</table>\n",
       "</div>"
      ],
      "text/plain": [
       "         Date             Reviewer  \\\n",
       "0   11/3/2020        Sonia of Lynn   \n",
       "1    9/3/2020  Amy of Jacksonville   \n",
       "2   8/12/2020    Judy of Asheville   \n",
       "3   8/12/2020    Sarah of Lawndale   \n",
       "4  11/29/2020  Jody of Bentonville   \n",
       "\n",
       "                                             Content  Rating  Label  \n",
       "0  This morning I had the pleasure of speaking wi...       5      1  \n",
       "1  I Live in Florida and was visiting in Georgia....       5      1  \n",
       "2  My husband and I were surprisingly pleased wit...       5      1  \n",
       "3  hours on the phone with Verizon and Asurion. B...       5      1  \n",
       "4  Resolution response:  Verizon finally came thr...       0      0  "
      ]
     },
     "execution_count": 11,
     "metadata": {},
     "output_type": "execute_result"
    },
    {
     "data": {
      "text/html": [
       "<div>\n",
       "<style scoped>\n",
       "    .dataframe tbody tr th:only-of-type {\n",
       "        vertical-align: middle;\n",
       "    }\n",
       "\n",
       "    .dataframe tbody tr th {\n",
       "        vertical-align: top;\n",
       "    }\n",
       "\n",
       "    .dataframe thead th {\n",
       "        text-align: right;\n",
       "    }\n",
       "</style>\n",
       "<table border=\"1\" class=\"dataframe\">\n",
       "  <thead>\n",
       "    <tr style=\"text-align: right;\">\n",
       "      <th></th>\n",
       "      <th>Date</th>\n",
       "      <th>Reviewer</th>\n",
       "      <th>Content</th>\n",
       "      <th>Rating</th>\n",
       "      <th>Label</th>\n",
       "    </tr>\n",
       "  </thead>\n",
       "  <tbody>\n",
       "    <tr>\n",
       "      <th>0</th>\n",
       "      <td>2/13/2021</td>\n",
       "      <td>Misty of Saint Augustine</td>\n",
       "      <td>I called into Verizon today literally in tears...</td>\n",
       "      <td>5</td>\n",
       "      <td>1</td>\n",
       "    </tr>\n",
       "    <tr>\n",
       "      <th>1</th>\n",
       "      <td>5/17/2021</td>\n",
       "      <td>John of Tulsa</td>\n",
       "      <td>I am a previous customer, I had Verizon for ab...</td>\n",
       "      <td>2</td>\n",
       "      <td>0</td>\n",
       "    </tr>\n",
       "    <tr>\n",
       "      <th>2</th>\n",
       "      <td>5/15/2021</td>\n",
       "      <td>Charles of Clarks Summit</td>\n",
       "      <td>I have been a Verizon Wireless customer for al...</td>\n",
       "      <td>1</td>\n",
       "      <td>0</td>\n",
       "    </tr>\n",
       "    <tr>\n",
       "      <th>3</th>\n",
       "      <td>5/14/2021</td>\n",
       "      <td>Michele of Arlington</td>\n",
       "      <td>I was a loyal Verizon customer but my recent i...</td>\n",
       "      <td>1</td>\n",
       "      <td>0</td>\n",
       "    </tr>\n",
       "    <tr>\n",
       "      <th>4</th>\n",
       "      <td>5/13/2021</td>\n",
       "      <td>Mary of Erie</td>\n",
       "      <td>Because the Verizon store told me directions t...</td>\n",
       "      <td>1</td>\n",
       "      <td>0</td>\n",
       "    </tr>\n",
       "  </tbody>\n",
       "</table>\n",
       "</div>"
      ],
      "text/plain": [
       "        Date                  Reviewer  \\\n",
       "0  2/13/2021  Misty of Saint Augustine   \n",
       "1  5/17/2021             John of Tulsa   \n",
       "2  5/15/2021  Charles of Clarks Summit   \n",
       "3  5/14/2021      Michele of Arlington   \n",
       "4  5/13/2021              Mary of Erie   \n",
       "\n",
       "                                             Content  Rating  Label  \n",
       "0  I called into Verizon today literally in tears...       5      1  \n",
       "1  I am a previous customer, I had Verizon for ab...       2      0  \n",
       "2  I have been a Verizon Wireless customer for al...       1      0  \n",
       "3  I was a loyal Verizon customer but my recent i...       1      0  \n",
       "4  Because the Verizon store told me directions t...       1      0  "
      ]
     },
     "execution_count": 11,
     "metadata": {},
     "output_type": "execute_result"
    }
   ],
   "source": [
    "# Importing Datasets\n",
    "\n",
    "verizon_train = pd.read_csv(\"verizon.csv\")\n",
    "verizon_test = pd.read_csv(\"vtest.csv\")\n",
    "\n",
    "verizon_train.head()\n",
    "verizon_test.head()"
   ]
  },
  {
   "cell_type": "markdown",
   "id": "hairy-drill",
   "metadata": {},
   "source": [
    "**Supervised Sentiment Analysis Using Word Vectors**"
   ]
  },
  {
   "cell_type": "code",
   "execution_count": 17,
   "id": "balanced-ballot",
   "metadata": {},
   "outputs": [],
   "source": [
    "# Creating a function to train word vectors\n",
    "\n",
    "def train_wordvec(docs, vector_size = 100):\n",
    "    \n",
    "    wv_model = None\n",
    "    \n",
    "    # add your code here\n",
    "    \n",
    "    # Tokenize docs into tokens\n",
    "    sentences=[[token.strip(string.punctuation).strip() \\\n",
    "             for token in nltk.word_tokenize(doc.lower()) \\\n",
    "                 if token not in string.punctuation and \\\n",
    "                 len(token.strip(string.punctuation).strip())>=2]\\\n",
    "             for doc in docs]\n",
    "    \n",
    "    # logging information\n",
    "    logging.basicConfig(format='%(asctime)s : %(levelname)s : %(message)s', level=logging.INFO)\n",
    "    \n",
    "    # Using gensim package to train word vectors\n",
    "    wv_model = word2vec.Word2Vec(sentences, min_count=5, vector_size=100, window=5, workers=4)\n",
    "    \n",
    "    return wv_model"
   ]
  },
  {
   "cell_type": "code",
   "execution_count": 18,
   "id": "pleasant-humidity",
   "metadata": {},
   "outputs": [
    {
     "name": "stderr",
     "output_type": "stream",
     "text": [
      "2021-06-15 00:43:45,340 : INFO : collecting all words and their counts\n",
      "2021-06-15 00:43:45,341 : INFO : PROGRESS: at sentence #0, processed 0 words, keeping 0 word types\n",
      "2021-06-15 00:43:45,428 : INFO : collected 16401 word types from a corpus of 752830 raw words and 4445 sentences\n",
      "2021-06-15 00:43:45,428 : INFO : Creating a fresh vocabulary\n",
      "2021-06-15 00:43:45,464 : INFO : Word2Vec lifecycle event {'msg': 'effective_min_count=5 retains 4741 unique words (28.90677397719651%% of original 16401, drops 11660)', 'datetime': '2021-06-15T00:43:45.464976', 'gensim': '4.0.1', 'python': '3.8.3 (default, Jul  2 2020, 17:30:36) [MSC v.1916 64 bit (AMD64)]', 'platform': 'Windows-10-10.0.19041-SP0', 'event': 'prepare_vocab'}\n",
      "2021-06-15 00:43:45,465 : INFO : Word2Vec lifecycle event {'msg': 'effective_min_count=5 leaves 734856 word corpus (97.61247559209914%% of original 752830, drops 17974)', 'datetime': '2021-06-15T00:43:45.465974', 'gensim': '4.0.1', 'python': '3.8.3 (default, Jul  2 2020, 17:30:36) [MSC v.1916 64 bit (AMD64)]', 'platform': 'Windows-10-10.0.19041-SP0', 'event': 'prepare_vocab'}\n",
      "2021-06-15 00:43:45,495 : INFO : deleting the raw counts dictionary of 16401 items\n",
      "2021-06-15 00:43:45,496 : INFO : sample=0.001 downsamples 74 most-common words\n",
      "2021-06-15 00:43:45,497 : INFO : Word2Vec lifecycle event {'msg': 'downsampling leaves estimated 529241.2520984921 word corpus (72.0%% of prior 734856)', 'datetime': '2021-06-15T00:43:45.497868', 'gensim': '4.0.1', 'python': '3.8.3 (default, Jul  2 2020, 17:30:36) [MSC v.1916 64 bit (AMD64)]', 'platform': 'Windows-10-10.0.19041-SP0', 'event': 'prepare_vocab'}\n",
      "2021-06-15 00:43:45,538 : INFO : estimated required memory for 4741 words and 100 dimensions: 6163300 bytes\n",
      "2021-06-15 00:43:45,538 : INFO : resetting layer weights\n",
      "2021-06-15 00:43:45,541 : INFO : Word2Vec lifecycle event {'update': False, 'trim_rule': 'None', 'datetime': '2021-06-15T00:43:45.541936', 'gensim': '4.0.1', 'python': '3.8.3 (default, Jul  2 2020, 17:30:36) [MSC v.1916 64 bit (AMD64)]', 'platform': 'Windows-10-10.0.19041-SP0', 'event': 'build_vocab'}\n",
      "2021-06-15 00:43:45,542 : INFO : Word2Vec lifecycle event {'msg': 'training model with 4 workers on 4741 vocabulary and 100 features, using sg=0 hs=0 sample=0.001 negative=5 window=5', 'datetime': '2021-06-15T00:43:45.542899', 'gensim': '4.0.1', 'python': '3.8.3 (default, Jul  2 2020, 17:30:36) [MSC v.1916 64 bit (AMD64)]', 'platform': 'Windows-10-10.0.19041-SP0', 'event': 'train'}\n",
      "2021-06-15 00:43:45,753 : INFO : worker thread finished; awaiting finish of 3 more threads\n",
      "2021-06-15 00:43:45,753 : INFO : worker thread finished; awaiting finish of 2 more threads\n",
      "2021-06-15 00:43:45,771 : INFO : worker thread finished; awaiting finish of 1 more threads\n",
      "2021-06-15 00:43:45,773 : INFO : worker thread finished; awaiting finish of 0 more threads\n",
      "2021-06-15 00:43:45,773 : INFO : EPOCH - 1 : training on 752830 raw words (528978 effective words) took 0.2s, 2337093 effective words/s\n",
      "2021-06-15 00:43:45,983 : INFO : worker thread finished; awaiting finish of 3 more threads\n",
      "2021-06-15 00:43:45,983 : INFO : worker thread finished; awaiting finish of 2 more threads\n",
      "2021-06-15 00:43:45,983 : INFO : worker thread finished; awaiting finish of 1 more threads\n",
      "2021-06-15 00:43:45,993 : INFO : worker thread finished; awaiting finish of 0 more threads\n",
      "2021-06-15 00:43:45,994 : INFO : EPOCH - 2 : training on 752830 raw words (529187 effective words) took 0.2s, 2426690 effective words/s\n",
      "2021-06-15 00:43:46,224 : INFO : worker thread finished; awaiting finish of 3 more threads\n",
      "2021-06-15 00:43:46,224 : INFO : worker thread finished; awaiting finish of 2 more threads\n",
      "2021-06-15 00:43:46,229 : INFO : worker thread finished; awaiting finish of 1 more threads\n",
      "2021-06-15 00:43:46,229 : INFO : worker thread finished; awaiting finish of 0 more threads\n",
      "2021-06-15 00:43:46,230 : INFO : EPOCH - 3 : training on 752830 raw words (529010 effective words) took 0.2s, 2253213 effective words/s\n",
      "2021-06-15 00:43:46,451 : INFO : worker thread finished; awaiting finish of 3 more threads\n",
      "2021-06-15 00:43:46,451 : INFO : worker thread finished; awaiting finish of 2 more threads\n",
      "2021-06-15 00:43:46,453 : INFO : worker thread finished; awaiting finish of 1 more threads\n",
      "2021-06-15 00:43:46,454 : INFO : worker thread finished; awaiting finish of 0 more threads\n",
      "2021-06-15 00:43:46,454 : INFO : EPOCH - 4 : training on 752830 raw words (529400 effective words) took 0.2s, 2383720 effective words/s\n",
      "2021-06-15 00:43:46,671 : INFO : worker thread finished; awaiting finish of 3 more threads\n",
      "2021-06-15 00:43:46,687 : INFO : worker thread finished; awaiting finish of 2 more threads\n",
      "2021-06-15 00:43:46,690 : INFO : worker thread finished; awaiting finish of 1 more threads\n",
      "2021-06-15 00:43:46,695 : INFO : worker thread finished; awaiting finish of 0 more threads\n",
      "2021-06-15 00:43:46,695 : INFO : EPOCH - 5 : training on 752830 raw words (529427 effective words) took 0.2s, 2223516 effective words/s\n",
      "2021-06-15 00:43:46,696 : INFO : Word2Vec lifecycle event {'msg': 'training on 3764150 raw words (2646002 effective words) took 1.2s, 2297627 effective words/s', 'datetime': '2021-06-15T00:43:46.696021', 'gensim': '4.0.1', 'python': '3.8.3 (default, Jul  2 2020, 17:30:36) [MSC v.1916 64 bit (AMD64)]', 'platform': 'Windows-10-10.0.19041-SP0', 'event': 'train'}\n",
      "2021-06-15 00:43:46,696 : INFO : Word2Vec lifecycle event {'params': 'Word2Vec(vocab=4741, vector_size=100, alpha=0.025)', 'datetime': '2021-06-15T00:43:46.696021', 'gensim': '4.0.1', 'python': '3.8.3 (default, Jul  2 2020, 17:30:36) [MSC v.1916 64 bit (AMD64)]', 'platform': 'Windows-10-10.0.19041-SP0', 'event': 'created'}\n"
     ]
    }
   ],
   "source": [
    "wv_model = train_wordvec(verizon_train[\"Content\"], vector_size = 100)"
   ]
  },
  {
   "cell_type": "code",
   "execution_count": 19,
   "id": "aquatic-hollywood",
   "metadata": {},
   "outputs": [],
   "source": [
    "# Creating a function to generate vector representation of documents\n",
    "\n",
    "def generate_doc_vector(docs, wv_model):\n",
    "    \n",
    "    vectors = None\n",
    "    \n",
    "    # add your code here\n",
    "    \n",
    "    # Tokenize each document doc in docs into tokens\n",
    "    doc =[[token.strip(string.punctuation).strip() \\\n",
    "             for token in nltk.word_tokenize(doc.lower()) \\\n",
    "                 if token not in string.punctuation and \\\n",
    "                 len(token.strip(string.punctuation).strip())>=2]\\\n",
    "             for doc in docs]\n",
    "\n",
    "    # looking for word vector in wv_model for each token in doc\n",
    "    wv_in_model = [[wv_model.wv[token] for token in lists if token in wv_model.wv.key_to_index]for lists in doc]\n",
    "    \n",
    "    # Certain vectors were empty hence added np.zeros(100) to avoid error\n",
    "    # Calculating document vector (d) mean of word vector of its token\n",
    "    d = []\n",
    "    \n",
    "    for w_vec in wv_in_model:\n",
    "        if w_vec == []:\n",
    "            d.append(np.zeros(100))\n",
    "        else:\n",
    "            d.append(np.vstack(w_vec).mean(axis=0))\n",
    "    \n",
    "    # Vector representation\n",
    "    vectors = np.array(d)\n",
    "    \n",
    "    print(vectors.shape)\n",
    "    return vectors"
   ]
  },
  {
   "cell_type": "code",
   "execution_count": 20,
   "id": "young-sister",
   "metadata": {},
   "outputs": [
    {
     "name": "stdout",
     "output_type": "stream",
     "text": [
      "(4445, 100)\n",
      "(103, 100)\n"
     ]
    }
   ],
   "source": [
    "train_X = generate_doc_vector(verizon_train[\"Content\"], wv_model)\n",
    "test_X = generate_doc_vector(verizon_test[\"Content\"], wv_model)"
   ]
  },
  {
   "cell_type": "markdown",
   "id": "australian-lesbian",
   "metadata": {},
   "source": [
    "**METHOD 1: SUPPORT VECTOR MACHINE**"
   ]
  },
  {
   "cell_type": "markdown",
   "id": "located-event",
   "metadata": {},
   "source": [
    "**Algorithm and Performance Evaluation**"
   ]
  },
  {
   "cell_type": "code",
   "execution_count": 29,
   "id": "current-limitation",
   "metadata": {},
   "outputs": [],
   "source": [
    "# Creating a function to predict sentiments using support vector machine algorithm\n",
    "# Evaluating performance\n",
    "\n",
    "def predict_sentiment(train_text, train_label, test_text, test_label, vector_size = 100):\n",
    "    \n",
    "    # add your code here\n",
    "    \n",
    "    # Calling train_wordvec to train a word vector\n",
    "    train_wordvec(train_text, 100)\n",
    "    \n",
    "    # Calling generate_doc_vector to generate vector representations\n",
    "    train_X = generate_doc_vector(train_text,wv_model)\n",
    "    \n",
    "    # Calling generate_doc_vector to generate vector representations\n",
    "    test_X = generate_doc_vector(test_text,wv_model)\n",
    "    \n",
    "    # Initiate a linear SVM model\n",
    "    clf = svm.LinearSVC(max_iter=5000)\n",
    "    \n",
    "    # Train a SVM model\n",
    "    clf.fit(train_X, train_label)\n",
    "    \n",
    "    # Predict for the test dataset\n",
    "    predicted=clf.predict(test_X)\n",
    "    \n",
    "    # Create a dataframe with sentiment and ground truth label\n",
    "    confusion_df = pd.DataFrame(list(zip(test_label.values, predicted)), columns = [\"label\", \"sentiment\"])\n",
    "    confusion_df.head()\n",
    "\n",
    "    # generate crosstab between sentiment and true labels\n",
    "    att_ctab = pd.crosstab(index=confusion_df.sentiment, columns=confusion_df.label)\n",
    "    print(att_ctab)    \n",
    "    \n",
    "    # Calculate performance metrics\n",
    "    print(classification_report(test_label, predicted))\n",
    "    \n",
    "    return None"
   ]
  },
  {
   "cell_type": "code",
   "execution_count": 30,
   "id": "after-motor",
   "metadata": {},
   "outputs": [
    {
     "name": "stderr",
     "output_type": "stream",
     "text": [
      "2021-06-15 03:48:20,714 : INFO : collecting all words and their counts\n",
      "2021-06-15 03:48:20,715 : INFO : PROGRESS: at sentence #0, processed 0 words, keeping 0 word types\n",
      "2021-06-15 03:48:20,826 : INFO : collected 16401 word types from a corpus of 752830 raw words and 4445 sentences\n",
      "2021-06-15 03:48:20,827 : INFO : Creating a fresh vocabulary\n",
      "2021-06-15 03:48:20,848 : INFO : Word2Vec lifecycle event {'msg': 'effective_min_count=5 retains 4741 unique words (28.90677397719651%% of original 16401, drops 11660)', 'datetime': '2021-06-15T03:48:20.848501', 'gensim': '4.0.1', 'python': '3.8.3 (default, Jul  2 2020, 17:30:36) [MSC v.1916 64 bit (AMD64)]', 'platform': 'Windows-10-10.0.19041-SP0', 'event': 'prepare_vocab'}\n",
      "2021-06-15 03:48:20,849 : INFO : Word2Vec lifecycle event {'msg': 'effective_min_count=5 leaves 734856 word corpus (97.61247559209914%% of original 752830, drops 17974)', 'datetime': '2021-06-15T03:48:20.849499', 'gensim': '4.0.1', 'python': '3.8.3 (default, Jul  2 2020, 17:30:36) [MSC v.1916 64 bit (AMD64)]', 'platform': 'Windows-10-10.0.19041-SP0', 'event': 'prepare_vocab'}\n",
      "2021-06-15 03:48:20,877 : INFO : deleting the raw counts dictionary of 16401 items\n",
      "2021-06-15 03:48:20,878 : INFO : sample=0.001 downsamples 74 most-common words\n",
      "2021-06-15 03:48:20,879 : INFO : Word2Vec lifecycle event {'msg': 'downsampling leaves estimated 529241.2520984921 word corpus (72.0%% of prior 734856)', 'datetime': '2021-06-15T03:48:20.879399', 'gensim': '4.0.1', 'python': '3.8.3 (default, Jul  2 2020, 17:30:36) [MSC v.1916 64 bit (AMD64)]', 'platform': 'Windows-10-10.0.19041-SP0', 'event': 'prepare_vocab'}\n",
      "2021-06-15 03:48:20,921 : INFO : estimated required memory for 4741 words and 100 dimensions: 6163300 bytes\n",
      "2021-06-15 03:48:20,922 : INFO : resetting layer weights\n",
      "2021-06-15 03:48:20,925 : INFO : Word2Vec lifecycle event {'update': False, 'trim_rule': 'None', 'datetime': '2021-06-15T03:48:20.925245', 'gensim': '4.0.1', 'python': '3.8.3 (default, Jul  2 2020, 17:30:36) [MSC v.1916 64 bit (AMD64)]', 'platform': 'Windows-10-10.0.19041-SP0', 'event': 'build_vocab'}\n",
      "2021-06-15 03:48:20,926 : INFO : Word2Vec lifecycle event {'msg': 'training model with 4 workers on 4741 vocabulary and 100 features, using sg=0 hs=0 sample=0.001 negative=5 window=5', 'datetime': '2021-06-15T03:48:20.926245', 'gensim': '4.0.1', 'python': '3.8.3 (default, Jul  2 2020, 17:30:36) [MSC v.1916 64 bit (AMD64)]', 'platform': 'Windows-10-10.0.19041-SP0', 'event': 'train'}\n",
      "2021-06-15 03:48:21,148 : INFO : worker thread finished; awaiting finish of 3 more threads\n",
      "2021-06-15 03:48:21,152 : INFO : worker thread finished; awaiting finish of 2 more threads\n",
      "2021-06-15 03:48:21,153 : INFO : worker thread finished; awaiting finish of 1 more threads\n",
      "2021-06-15 03:48:21,154 : INFO : worker thread finished; awaiting finish of 0 more threads\n",
      "2021-06-15 03:48:21,155 : INFO : EPOCH - 1 : training on 752830 raw words (528810 effective words) took 0.2s, 2341732 effective words/s\n",
      "2021-06-15 03:48:21,384 : INFO : worker thread finished; awaiting finish of 3 more threads\n",
      "2021-06-15 03:48:21,386 : INFO : worker thread finished; awaiting finish of 2 more threads\n",
      "2021-06-15 03:48:21,388 : INFO : worker thread finished; awaiting finish of 1 more threads\n",
      "2021-06-15 03:48:21,390 : INFO : worker thread finished; awaiting finish of 0 more threads\n",
      "2021-06-15 03:48:21,391 : INFO : EPOCH - 2 : training on 752830 raw words (529150 effective words) took 0.2s, 2267535 effective words/s\n",
      "2021-06-15 03:48:21,627 : INFO : worker thread finished; awaiting finish of 3 more threads\n",
      "2021-06-15 03:48:21,630 : INFO : worker thread finished; awaiting finish of 2 more threads\n",
      "2021-06-15 03:48:21,630 : INFO : worker thread finished; awaiting finish of 1 more threads\n",
      "2021-06-15 03:48:21,633 : INFO : worker thread finished; awaiting finish of 0 more threads\n",
      "2021-06-15 03:48:21,633 : INFO : EPOCH - 3 : training on 752830 raw words (528677 effective words) took 0.2s, 2197854 effective words/s\n",
      "2021-06-15 03:48:21,862 : INFO : worker thread finished; awaiting finish of 3 more threads\n",
      "2021-06-15 03:48:21,865 : INFO : worker thread finished; awaiting finish of 2 more threads\n",
      "2021-06-15 03:48:21,866 : INFO : worker thread finished; awaiting finish of 1 more threads\n",
      "2021-06-15 03:48:21,867 : INFO : worker thread finished; awaiting finish of 0 more threads\n",
      "2021-06-15 03:48:21,868 : INFO : EPOCH - 4 : training on 752830 raw words (529224 effective words) took 0.2s, 2283246 effective words/s\n",
      "2021-06-15 03:48:22,097 : INFO : worker thread finished; awaiting finish of 3 more threads\n",
      "2021-06-15 03:48:22,101 : INFO : worker thread finished; awaiting finish of 2 more threads\n",
      "2021-06-15 03:48:22,101 : INFO : worker thread finished; awaiting finish of 1 more threads\n",
      "2021-06-15 03:48:22,103 : INFO : worker thread finished; awaiting finish of 0 more threads\n",
      "2021-06-15 03:48:22,104 : INFO : EPOCH - 5 : training on 752830 raw words (528979 effective words) took 0.2s, 2270087 effective words/s\n",
      "2021-06-15 03:48:22,104 : INFO : Word2Vec lifecycle event {'msg': 'training on 3764150 raw words (2644840 effective words) took 1.2s, 2245512 effective words/s', 'datetime': '2021-06-15T03:48:22.104339', 'gensim': '4.0.1', 'python': '3.8.3 (default, Jul  2 2020, 17:30:36) [MSC v.1916 64 bit (AMD64)]', 'platform': 'Windows-10-10.0.19041-SP0', 'event': 'train'}\n",
      "2021-06-15 03:48:22,104 : INFO : Word2Vec lifecycle event {'params': 'Word2Vec(vocab=4741, vector_size=100, alpha=0.025)', 'datetime': '2021-06-15T03:48:22.104339', 'gensim': '4.0.1', 'python': '3.8.3 (default, Jul  2 2020, 17:30:36) [MSC v.1916 64 bit (AMD64)]', 'platform': 'Windows-10-10.0.19041-SP0', 'event': 'created'}\n"
     ]
    },
    {
     "name": "stdout",
     "output_type": "stream",
     "text": [
      "(4445, 100)\n",
      "(103, 100)\n",
      "label       0  1\n",
      "sentiment       \n",
      "0          98  2\n",
      "1           3  0\n",
      "              precision    recall  f1-score   support\n",
      "\n",
      "           0       0.98      0.97      0.98       101\n",
      "           1       0.00      0.00      0.00         2\n",
      "\n",
      "    accuracy                           0.95       103\n",
      "   macro avg       0.49      0.49      0.49       103\n",
      "weighted avg       0.96      0.95      0.96       103\n",
      "\n"
     ]
    }
   ],
   "source": [
    "predict_sentiment(verizon_train[\"Content\"], verizon_train[\"Label\"],\\\n",
    "                  verizon_test[\"Content\"], verizon_test[\"Label\"],\\\n",
    "                  vector_size = 100)"
   ]
  },
  {
   "cell_type": "markdown",
   "id": "apparent-shopper",
   "metadata": {},
   "source": [
    "**Performance Evaluation - Support Vector Machine (Verizon)**\n",
    "\n",
    "*The performance evaluation result generated through Support Vector Machine Model shows that the f1-score for Verizon is 0.98 and weighted average for Verizon is 0.96.*"
   ]
  },
  {
   "cell_type": "markdown",
   "id": "muslim-satin",
   "metadata": {},
   "source": [
    "**Confusion Matrix - Support Vector Machine (Verizon)**\n",
    "\n",
    "*The testing dataset consisted of 101 negative reviews and 2 positive reviews. Through Support Vector Machine method, 98 reviews were correctly predicted as negative and none of the reviews were correctly predicted as positive.*"
   ]
  },
  {
   "cell_type": "markdown",
   "id": "oriented-sacramento",
   "metadata": {},
   "source": [
    "**METHOD 2: NAIVE BAYES**"
   ]
  },
  {
   "cell_type": "markdown",
   "id": "round-therapy",
   "metadata": {},
   "source": [
    "**Algorithm and Performance Evaluation**"
   ]
  },
  {
   "cell_type": "code",
   "execution_count": 31,
   "id": "featured-contractor",
   "metadata": {},
   "outputs": [],
   "source": [
    "# Creating a function to predict sentiments using support vector machine algorithm\n",
    "# Evaluating performance\n",
    "\n",
    "def predict_sentiment(train_text, train_label, test_text, test_label, vector_size = 100):\n",
    "    \n",
    "    # add your code here\n",
    "    \n",
    "    # Calling train_wordvec to train a word vector\n",
    "    train_wordvec(train_text, 100)\n",
    "    \n",
    "    # Calling generate_doc_vector to generate vector representations\n",
    "    train_X = generate_doc_vector(train_text,wv_model)\n",
    "    \n",
    "    # Calling generate_doc_vector to generate vector representations\n",
    "    test_X = generate_doc_vector(test_text,wv_model)\n",
    "    \n",
    "    # Initiate a MinMaxScaler\n",
    "    scaler = MinMaxScaler()\n",
    "    \n",
    "    # Fit and Transform the training data into MinMaxScaler\n",
    "    train_x = scaler.fit_transform(train_X)\n",
    "    \n",
    "    # Fit and Transform the testing data into MinMaxScaler\n",
    "    test_x = scaler.fit_transform(test_X)\n",
    "    \n",
    "    # Initiate a MultinomialNB model\n",
    "    # Train a multinomial naive Bayes model using the testing data\n",
    "    clf = MultinomialNB().fit(train_x, train_label)\n",
    "    \n",
    "    # Predict for the test dataset\n",
    "    predicted=clf.predict(test_x)\n",
    "    \n",
    "    # Create a dataframe with sentiment and ground truth label\n",
    "    confusion_df = pd.DataFrame(list(zip(test_label.values, predicted)), columns = [\"label\", \"sentiment\"])\n",
    "    confusion_df.head()\n",
    "\n",
    "    # generate crosstab between sentiment and true labels\n",
    "    att_ctab = pd.crosstab(index=confusion_df.sentiment, columns=confusion_df.label)\n",
    "    print(att_ctab)\n",
    "    \n",
    "    # Calculate performance metrics\n",
    "    print(classification_report(test_label, predicted))\n",
    "    \n",
    "    return None"
   ]
  },
  {
   "cell_type": "code",
   "execution_count": 32,
   "id": "guided-dragon",
   "metadata": {
    "scrolled": true
   },
   "outputs": [
    {
     "name": "stderr",
     "output_type": "stream",
     "text": [
      "2021-06-15 03:48:38,691 : INFO : collecting all words and their counts\n",
      "2021-06-15 03:48:38,691 : INFO : PROGRESS: at sentence #0, processed 0 words, keeping 0 word types\n",
      "2021-06-15 03:48:38,804 : INFO : collected 16401 word types from a corpus of 752830 raw words and 4445 sentences\n",
      "2021-06-15 03:48:38,805 : INFO : Creating a fresh vocabulary\n",
      "2021-06-15 03:48:38,827 : INFO : Word2Vec lifecycle event {'msg': 'effective_min_count=5 retains 4741 unique words (28.90677397719651%% of original 16401, drops 11660)', 'datetime': '2021-06-15T03:48:38.827146', 'gensim': '4.0.1', 'python': '3.8.3 (default, Jul  2 2020, 17:30:36) [MSC v.1916 64 bit (AMD64)]', 'platform': 'Windows-10-10.0.19041-SP0', 'event': 'prepare_vocab'}\n",
      "2021-06-15 03:48:38,828 : INFO : Word2Vec lifecycle event {'msg': 'effective_min_count=5 leaves 734856 word corpus (97.61247559209914%% of original 752830, drops 17974)', 'datetime': '2021-06-15T03:48:38.828097', 'gensim': '4.0.1', 'python': '3.8.3 (default, Jul  2 2020, 17:30:36) [MSC v.1916 64 bit (AMD64)]', 'platform': 'Windows-10-10.0.19041-SP0', 'event': 'prepare_vocab'}\n",
      "2021-06-15 03:48:38,856 : INFO : deleting the raw counts dictionary of 16401 items\n",
      "2021-06-15 03:48:38,856 : INFO : sample=0.001 downsamples 74 most-common words\n",
      "2021-06-15 03:48:38,857 : INFO : Word2Vec lifecycle event {'msg': 'downsampling leaves estimated 529241.2520984921 word corpus (72.0%% of prior 734856)', 'datetime': '2021-06-15T03:48:38.857118', 'gensim': '4.0.1', 'python': '3.8.3 (default, Jul  2 2020, 17:30:36) [MSC v.1916 64 bit (AMD64)]', 'platform': 'Windows-10-10.0.19041-SP0', 'event': 'prepare_vocab'}\n",
      "2021-06-15 03:48:38,897 : INFO : estimated required memory for 4741 words and 100 dimensions: 6163300 bytes\n",
      "2021-06-15 03:48:38,898 : INFO : resetting layer weights\n",
      "2021-06-15 03:48:38,901 : INFO : Word2Vec lifecycle event {'update': False, 'trim_rule': 'None', 'datetime': '2021-06-15T03:48:38.901251', 'gensim': '4.0.1', 'python': '3.8.3 (default, Jul  2 2020, 17:30:36) [MSC v.1916 64 bit (AMD64)]', 'platform': 'Windows-10-10.0.19041-SP0', 'event': 'build_vocab'}\n",
      "2021-06-15 03:48:38,902 : INFO : Word2Vec lifecycle event {'msg': 'training model with 4 workers on 4741 vocabulary and 100 features, using sg=0 hs=0 sample=0.001 negative=5 window=5', 'datetime': '2021-06-15T03:48:38.902219', 'gensim': '4.0.1', 'python': '3.8.3 (default, Jul  2 2020, 17:30:36) [MSC v.1916 64 bit (AMD64)]', 'platform': 'Windows-10-10.0.19041-SP0', 'event': 'train'}\n",
      "2021-06-15 03:48:39,129 : INFO : worker thread finished; awaiting finish of 3 more threads\n",
      "2021-06-15 03:48:39,130 : INFO : worker thread finished; awaiting finish of 2 more threads\n",
      "2021-06-15 03:48:39,131 : INFO : worker thread finished; awaiting finish of 1 more threads\n",
      "2021-06-15 03:48:39,134 : INFO : worker thread finished; awaiting finish of 0 more threads\n",
      "2021-06-15 03:48:39,135 : INFO : EPOCH - 1 : training on 752830 raw words (529580 effective words) took 0.2s, 2305191 effective words/s\n",
      "2021-06-15 03:48:39,353 : INFO : worker thread finished; awaiting finish of 3 more threads\n",
      "2021-06-15 03:48:39,354 : INFO : worker thread finished; awaiting finish of 2 more threads\n",
      "2021-06-15 03:48:39,356 : INFO : worker thread finished; awaiting finish of 1 more threads\n",
      "2021-06-15 03:48:39,358 : INFO : worker thread finished; awaiting finish of 0 more threads\n",
      "2021-06-15 03:48:39,359 : INFO : EPOCH - 2 : training on 752830 raw words (529319 effective words) took 0.2s, 2390285 effective words/s\n",
      "2021-06-15 03:48:39,574 : INFO : worker thread finished; awaiting finish of 3 more threads\n",
      "2021-06-15 03:48:39,575 : INFO : worker thread finished; awaiting finish of 2 more threads\n",
      "2021-06-15 03:48:39,577 : INFO : worker thread finished; awaiting finish of 1 more threads\n",
      "2021-06-15 03:48:39,578 : INFO : worker thread finished; awaiting finish of 0 more threads\n",
      "2021-06-15 03:48:39,578 : INFO : EPOCH - 3 : training on 752830 raw words (529303 effective words) took 0.2s, 2435037 effective words/s\n",
      "2021-06-15 03:48:39,793 : INFO : worker thread finished; awaiting finish of 3 more threads\n",
      "2021-06-15 03:48:39,797 : INFO : worker thread finished; awaiting finish of 2 more threads\n",
      "2021-06-15 03:48:39,798 : INFO : worker thread finished; awaiting finish of 1 more threads\n",
      "2021-06-15 03:48:39,800 : INFO : worker thread finished; awaiting finish of 0 more threads\n",
      "2021-06-15 03:48:39,800 : INFO : EPOCH - 4 : training on 752830 raw words (528898 effective words) took 0.2s, 2403824 effective words/s\n",
      "2021-06-15 03:48:40,016 : INFO : worker thread finished; awaiting finish of 3 more threads\n",
      "2021-06-15 03:48:40,018 : INFO : worker thread finished; awaiting finish of 2 more threads\n",
      "2021-06-15 03:48:40,019 : INFO : worker thread finished; awaiting finish of 1 more threads\n",
      "2021-06-15 03:48:40,020 : INFO : worker thread finished; awaiting finish of 0 more threads\n",
      "2021-06-15 03:48:40,021 : INFO : EPOCH - 5 : training on 752830 raw words (529424 effective words) took 0.2s, 2421549 effective words/s\n",
      "2021-06-15 03:48:40,021 : INFO : Word2Vec lifecycle event {'msg': 'training on 3764150 raw words (2646524 effective words) took 1.1s, 2364387 effective words/s', 'datetime': '2021-06-15T03:48:40.021612', 'gensim': '4.0.1', 'python': '3.8.3 (default, Jul  2 2020, 17:30:36) [MSC v.1916 64 bit (AMD64)]', 'platform': 'Windows-10-10.0.19041-SP0', 'event': 'train'}\n",
      "2021-06-15 03:48:40,022 : INFO : Word2Vec lifecycle event {'params': 'Word2Vec(vocab=4741, vector_size=100, alpha=0.025)', 'datetime': '2021-06-15T03:48:40.022610', 'gensim': '4.0.1', 'python': '3.8.3 (default, Jul  2 2020, 17:30:36) [MSC v.1916 64 bit (AMD64)]', 'platform': 'Windows-10-10.0.19041-SP0', 'event': 'created'}\n"
     ]
    },
    {
     "name": "stdout",
     "output_type": "stream",
     "text": [
      "(4445, 100)\n",
      "(103, 100)\n",
      "label       0  1\n",
      "sentiment       \n",
      "0          85  2\n",
      "1          16  0\n",
      "              precision    recall  f1-score   support\n",
      "\n",
      "           0       0.98      0.84      0.90       101\n",
      "           1       0.00      0.00      0.00         2\n",
      "\n",
      "    accuracy                           0.83       103\n",
      "   macro avg       0.49      0.42      0.45       103\n",
      "weighted avg       0.96      0.83      0.89       103\n",
      "\n"
     ]
    }
   ],
   "source": [
    "predict_sentiment(verizon_train[\"Content\"], verizon_train[\"Label\"],\\\n",
    "                  verizon_test[\"Content\"], verizon_test[\"Label\"],\\\n",
    "                  vector_size = 100)"
   ]
  },
  {
   "cell_type": "markdown",
   "id": "charitable-badge",
   "metadata": {},
   "source": [
    "**PERFORMANCE EVALUATION**"
   ]
  },
  {
   "cell_type": "markdown",
   "id": "facial-snapshot",
   "metadata": {},
   "source": [
    "**Performance Evaluation - Naive Bayes (Verizon)**\n",
    "\n",
    "*The performance evaluation result generated through Naive Bayes Model shows that the f1-score for Verizon is 0.90 and weighted average for Verizon is 0.89.*"
   ]
  },
  {
   "cell_type": "markdown",
   "id": "about-country",
   "metadata": {},
   "source": [
    "**Confusion Matrix - Naive Bayes (Verizon)**\n",
    "\n",
    "*The testing dataset consisted of 101 negative reviews and 2 positive reviews. Through Naive Bayes method, 85 reviews were predicted correctly as negative and none of the reviews were correctly predicted as positive.*"
   ]
  },
  {
   "cell_type": "markdown",
   "id": "speaking-termination",
   "metadata": {},
   "source": [
    "**MODEL COMPARSION**"
   ]
  },
  {
   "cell_type": "markdown",
   "id": "electrical-wisconsin",
   "metadata": {},
   "source": [
    "**Comparing Support Vector Machine and Naive Bayes Method**"
   ]
  },
  {
   "cell_type": "code",
   "execution_count": 19,
   "id": "recreational-stylus",
   "metadata": {},
   "outputs": [],
   "source": [
    "f1_Score_Weighted_Average = [0.96, 0.89]"
   ]
  },
  {
   "cell_type": "code",
   "execution_count": 20,
   "id": "turned-administrator",
   "metadata": {},
   "outputs": [],
   "source": [
    "Method = ['Support Vector Machine', 'Naive Bayes']"
   ]
  },
  {
   "cell_type": "code",
   "execution_count": 21,
   "id": "educational-asbestos",
   "metadata": {
    "scrolled": true
   },
   "outputs": [
    {
     "data": {
      "text/plain": [
       "<BarContainer object of 2 artists>"
      ]
     },
     "execution_count": 21,
     "metadata": {},
     "output_type": "execute_result"
    },
    {
     "data": {
      "text/plain": [
       "Text(0.5, 1.0, 'Method and thier respective f1-score for Verizon')"
      ]
     },
     "execution_count": 21,
     "metadata": {},
     "output_type": "execute_result"
    },
    {
     "data": {
      "text/plain": [
       "Text(0.5, 0, 'Method')"
      ]
     },
     "execution_count": 21,
     "metadata": {},
     "output_type": "execute_result"
    },
    {
     "data": {
      "text/plain": [
       "Text(0, 0.5, 'f1-score')"
      ]
     },
     "execution_count": 21,
     "metadata": {},
     "output_type": "execute_result"
    },
    {
     "data": {
      "image/png": "[encoded data removed]",
      "text/plain": [
       "<Figure size 432x288 with 1 Axes>"
      ]
     },
     "metadata": {
      "needs_background": "light"
     },
     "output_type": "display_data"
    }
   ],
   "source": [
    "New_Colors = ['green', 'brown']\n",
    "plt.bar(Method, f1_Score_Weighted_Average, color=New_Colors)\n",
    "plt.title('Method and thier respective f1-score for Verizon')\n",
    "plt.xlabel('Method')\n",
    "plt.ylabel('f1-score')\n",
    "plt.grid(True)\n",
    "plt.show()"
   ]
  },
  {
   "cell_type": "markdown",
   "id": "arbitrary-circle",
   "metadata": {},
   "source": [
    "*Support Vector Machine model performs better than Naive Bayes model. The weighted average f1-score by Support Vector Machine method is 0.96 and through Naive Bayes method is 0.89.*"
   ]
  },
  {
   "cell_type": "markdown",
   "id": "expressed-nurse",
   "metadata": {},
   "source": [
    "## **ANALYSIS**"
   ]
  },
  {
   "cell_type": "markdown",
   "id": "anticipated-surprise",
   "metadata": {},
   "source": [
    "**AT&T**"
   ]
  },
  {
   "cell_type": "markdown",
   "id": "assured-platform",
   "metadata": {},
   "source": [
    "**Year 2015 to 2020**"
   ]
  },
  {
   "cell_type": "code",
   "execution_count": 8,
   "id": "grave-swiss",
   "metadata": {},
   "outputs": [
    {
     "data": {
      "text/plain": [
       "0    4196\n",
       "1     391\n",
       "Name: Label, dtype: int64"
      ]
     },
     "execution_count": 8,
     "metadata": {},
     "output_type": "execute_result"
    }
   ],
   "source": [
    "# counting the number of positive and negative reviews\n",
    "\n",
    "att_train.Label.value_counts()"
   ]
  },
  {
   "cell_type": "code",
   "execution_count": 14,
   "id": "portuguese-screening",
   "metadata": {
    "scrolled": false
   },
   "outputs": [
    {
     "data": {
      "text/plain": [
       "<Figure size 720x432 with 0 Axes>"
      ]
     },
     "execution_count": 14,
     "metadata": {},
     "output_type": "execute_result"
    },
    {
     "data": {
      "text/plain": [
       "<AxesSubplot:xlabel='Label', ylabel='count'>"
      ]
     },
     "execution_count": 14,
     "metadata": {},
     "output_type": "execute_result"
    },
    {
     "data": {
      "text/plain": [
       "Text(0.5, 1.0, 'Total Review Numbers for Each Label')"
      ]
     },
     "execution_count": 14,
     "metadata": {},
     "output_type": "execute_result"
    },
    {
     "data": {
      "text/plain": [
       "Text(0.5, 0, 'Label')"
      ]
     },
     "execution_count": 14,
     "metadata": {},
     "output_type": "execute_result"
    },
    {
     "data": {
      "text/plain": [
       "Text(0, 0.5, 'Count of Label')"
      ]
     },
     "execution_count": 14,
     "metadata": {},
     "output_type": "execute_result"
    },
    {
     "data": {
      "image/png": "[encoded data removed]",
      "text/plain": [
       "<Figure size 720x432 with 1 Axes>"
      ]
     },
     "metadata": {
      "needs_background": "light"
     },
     "output_type": "display_data"
    },
    {
     "data": {
      "text/plain": [
       "0    4196\n",
       "1     391\n",
       "Name: Label, dtype: int64"
      ]
     },
     "execution_count": 14,
     "metadata": {},
     "output_type": "execute_result"
    }
   ],
   "source": [
    "# bifurcation of labels\n",
    "\n",
    "plt.figure(figsize = (10,6))\n",
    "sns.countplot(data = att_train, x = 'Label')\n",
    "plt.title('Total Review Numbers for Each Label', color='black')\n",
    "plt.xlabel('Label')\n",
    "plt.ylabel('Count of Label')\n",
    "plt.show()\n",
    "\n",
    "# Customer totals for each rating class\n",
    "att_train['Label'].value_counts()"
   ]
  },
  {
   "cell_type": "markdown",
   "id": "chinese-oakland",
   "metadata": {},
   "source": [
    "*From 2015 to 2020, AT&T received 4196 negative reviews and 391 positive reviews*"
   ]
  },
  {
   "cell_type": "code",
   "execution_count": 26,
   "id": "vertical-interstate",
   "metadata": {
    "scrolled": false
   },
   "outputs": [
    {
     "data": {
      "text/plain": [
       "<Figure size 720x432 with 0 Axes>"
      ]
     },
     "execution_count": 26,
     "metadata": {},
     "output_type": "execute_result"
    },
    {
     "data": {
      "text/plain": [
       "Label\n",
       "0    4196\n",
       "1     391\n",
       "Name: Label, dtype: int64"
      ]
     },
     "execution_count": 26,
     "metadata": {},
     "output_type": "execute_result"
    },
    {
     "data": {
      "text/plain": [
       "<AxesSubplot:ylabel='Label'>"
      ]
     },
     "execution_count": 26,
     "metadata": {},
     "output_type": "execute_result"
    },
    {
     "data": {
      "text/plain": [
       "<matplotlib.legend.Legend at 0x2c4f61ad3d0>"
      ]
     },
     "execution_count": 26,
     "metadata": {},
     "output_type": "execute_result"
    },
    {
     "data": {
      "image/png": "[encoded data removed]",
      "text/plain": [
       "<Figure size 720x432 with 1 Axes>"
      ]
     },
     "metadata": {},
     "output_type": "display_data"
    }
   ],
   "source": [
    "# bifuraction of label as percentage\n",
    "\n",
    "plt.figure(figsize = (10,6))\n",
    "att_train.groupby('Label').Label.count()\n",
    "att_train.groupby('Label').Label.count().plot(kind='pie',autopct='%1.1f%%', pctdistance=1.2, labeldistance=0.2, labels=['Negative Reviews','Positive Reviews'])\n",
    "plt.legend(loc=1, labels=att_train.index)\n",
    "plt.show()"
   ]
  },
  {
   "cell_type": "markdown",
   "id": "synthetic-richardson",
   "metadata": {},
   "source": [
    "*The percentage of negative reviews recieved by AT&T is 91.5% and positive reviews is 8.5% over a span of six years*"
   ]
  },
  {
   "cell_type": "code",
   "execution_count": 39,
   "id": "precious-possibility",
   "metadata": {},
   "outputs": [],
   "source": [
    "# since date is in object type, we shall convert it into datetime stamp\n",
    "\n",
    "att_train['Date'] = pd.to_datetime(att_train['Date'], errors = 'coerce')"
   ]
  },
  {
   "cell_type": "code",
   "execution_count": 40,
   "id": "played-plumbing",
   "metadata": {},
   "outputs": [
    {
     "data": {
      "text/html": [
       "<div>\n",
       "<style scoped>\n",
       "    .dataframe tbody tr th:only-of-type {\n",
       "        vertical-align: middle;\n",
       "    }\n",
       "\n",
       "    .dataframe tbody tr th {\n",
       "        vertical-align: top;\n",
       "    }\n",
       "\n",
       "    .dataframe thead th {\n",
       "        text-align: right;\n",
       "    }\n",
       "</style>\n",
       "<table border=\"1\" class=\"dataframe\">\n",
       "  <thead>\n",
       "    <tr style=\"text-align: right;\">\n",
       "      <th></th>\n",
       "      <th></th>\n",
       "      <th>Label</th>\n",
       "    </tr>\n",
       "    <tr>\n",
       "      <th>Date</th>\n",
       "      <th>Label</th>\n",
       "      <th></th>\n",
       "    </tr>\n",
       "  </thead>\n",
       "  <tbody>\n",
       "    <tr>\n",
       "      <th rowspan=\"2\" valign=\"top\">2015</th>\n",
       "      <th>0</th>\n",
       "      <td>1058</td>\n",
       "    </tr>\n",
       "    <tr>\n",
       "      <th>1</th>\n",
       "      <td>12</td>\n",
       "    </tr>\n",
       "    <tr>\n",
       "      <th rowspan=\"2\" valign=\"top\">2016</th>\n",
       "      <th>0</th>\n",
       "      <td>763</td>\n",
       "    </tr>\n",
       "    <tr>\n",
       "      <th>1</th>\n",
       "      <td>31</td>\n",
       "    </tr>\n",
       "    <tr>\n",
       "      <th rowspan=\"2\" valign=\"top\">2017</th>\n",
       "      <th>0</th>\n",
       "      <td>793</td>\n",
       "    </tr>\n",
       "    <tr>\n",
       "      <th>1</th>\n",
       "      <td>196</td>\n",
       "    </tr>\n",
       "    <tr>\n",
       "      <th rowspan=\"2\" valign=\"top\">2018</th>\n",
       "      <th>0</th>\n",
       "      <td>713</td>\n",
       "    </tr>\n",
       "    <tr>\n",
       "      <th>1</th>\n",
       "      <td>74</td>\n",
       "    </tr>\n",
       "    <tr>\n",
       "      <th rowspan=\"2\" valign=\"top\">2019</th>\n",
       "      <th>0</th>\n",
       "      <td>620</td>\n",
       "    </tr>\n",
       "    <tr>\n",
       "      <th>1</th>\n",
       "      <td>17</td>\n",
       "    </tr>\n",
       "    <tr>\n",
       "      <th rowspan=\"2\" valign=\"top\">2020</th>\n",
       "      <th>0</th>\n",
       "      <td>249</td>\n",
       "    </tr>\n",
       "    <tr>\n",
       "      <th>1</th>\n",
       "      <td>61</td>\n",
       "    </tr>\n",
       "  </tbody>\n",
       "</table>\n",
       "</div>"
      ],
      "text/plain": [
       "            Label\n",
       "Date Label       \n",
       "2015 0       1058\n",
       "     1         12\n",
       "2016 0        763\n",
       "     1         31\n",
       "2017 0        793\n",
       "     1        196\n",
       "2018 0        713\n",
       "     1         74\n",
       "2019 0        620\n",
       "     1         17\n",
       "2020 0        249\n",
       "     1         61"
      ]
     },
     "execution_count": 40,
     "metadata": {},
     "output_type": "execute_result"
    }
   ],
   "source": [
    "# checking the count of type of reviews on a yearly basis\n",
    "\n",
    "year_label_train = pd.DataFrame(att_train.groupby([att_train.Date.dt.year]).Label.value_counts())\n",
    "year_label_train"
   ]
  },
  {
   "cell_type": "markdown",
   "id": "retired-speaker",
   "metadata": {},
   "source": [
    "*From the above table, we can analyse the number of positive and negative reviews received by AT&T in each year.*  \n",
    "*In **2015**, AT&T got 1058 negative reviews and 12 positove reviews*  \n",
    "*In **2016**, AT&T got 763 negative reviews and 31 positive reviews*  \n",
    "*In **2017**, AT&T got 793 negative reviews and 196 positive reviews*  \n",
    "*In **2018**, AT&T got 713 negative reviews and 74 positive reviews*  \n",
    "*In **2019**, AT&T got 620 negative reviews and 17 positive reviews*  \n",
    "*In **2020**, AT&T got 249 negative reviews and 61 positive reviews*  \n",
    "*In **2015** it received highest number of negative reviews and in **2020** it received lowest number of negative reviews*  \n",
    "*In **2017** it received highest number of positive reviews and in **2015** it received lowest number of positive reviews*"
   ]
  },
  {
   "cell_type": "markdown",
   "id": "matched-plasma",
   "metadata": {},
   "source": [
    "**Year 2021**"
   ]
  },
  {
   "cell_type": "code",
   "execution_count": 28,
   "id": "correct-observation",
   "metadata": {},
   "outputs": [
    {
     "data": {
      "text/plain": [
       "0    38\n",
       "Name: Label, dtype: int64"
      ]
     },
     "execution_count": 28,
     "metadata": {},
     "output_type": "execute_result"
    }
   ],
   "source": [
    "# counting the number of positive and negative reviews\n",
    "\n",
    "att_test.Label.value_counts()"
   ]
  },
  {
   "cell_type": "code",
   "execution_count": 29,
   "id": "pressing-vietnamese",
   "metadata": {
    "scrolled": true
   },
   "outputs": [
    {
     "data": {
      "text/plain": [
       "<Figure size 720x432 with 0 Axes>"
      ]
     },
     "execution_count": 29,
     "metadata": {},
     "output_type": "execute_result"
    },
    {
     "data": {
      "text/plain": [
       "<AxesSubplot:xlabel='Label', ylabel='count'>"
      ]
     },
     "execution_count": 29,
     "metadata": {},
     "output_type": "execute_result"
    },
    {
     "data": {
      "text/plain": [
       "Text(0.5, 1.0, 'Total Review Numbers for Each Label')"
      ]
     },
     "execution_count": 29,
     "metadata": {},
     "output_type": "execute_result"
    },
    {
     "data": {
      "text/plain": [
       "Text(0.5, 0, 'Label')"
      ]
     },
     "execution_count": 29,
     "metadata": {},
     "output_type": "execute_result"
    },
    {
     "data": {
      "text/plain": [
       "Text(0, 0.5, 'Count of Label')"
      ]
     },
     "execution_count": 29,
     "metadata": {},
     "output_type": "execute_result"
    },
    {
     "data": {
      "image/png": "[encoded data removed]",
      "text/plain": [
       "<Figure size 720x432 with 1 Axes>"
      ]
     },
     "metadata": {
      "needs_background": "light"
     },
     "output_type": "display_data"
    },
    {
     "data": {
      "text/plain": [
       "0    38\n",
       "Name: Label, dtype: int64"
      ]
     },
     "execution_count": 29,
     "metadata": {},
     "output_type": "execute_result"
    }
   ],
   "source": [
    "# bifurcation of labels\n",
    "\n",
    "plt.figure(figsize = (10,6))\n",
    "sns.countplot(data = att_test, x = 'Label')\n",
    "plt.title('Total Review Numbers for Each Label', color='black')\n",
    "plt.xlabel('Label')\n",
    "plt.ylabel('Count of Label')\n",
    "plt.show()\n",
    "\n",
    "# Customer totals for each rating class\n",
    "att_test['Label'].value_counts()"
   ]
  },
  {
   "cell_type": "markdown",
   "id": "brief-conservative",
   "metadata": {},
   "source": [
    "*In 2021, AT&T received 38 negative reviews and 0 positive reviews*"
   ]
  },
  {
   "cell_type": "code",
   "execution_count": 38,
   "id": "digital-guest",
   "metadata": {},
   "outputs": [
    {
     "data": {
      "text/plain": [
       "<Figure size 720x432 with 0 Axes>"
      ]
     },
     "execution_count": 38,
     "metadata": {},
     "output_type": "execute_result"
    },
    {
     "data": {
      "text/plain": [
       "Label\n",
       "0    38\n",
       "Name: Label, dtype: int64"
      ]
     },
     "execution_count": 38,
     "metadata": {},
     "output_type": "execute_result"
    },
    {
     "data": {
      "text/plain": [
       "<AxesSubplot:ylabel='Label'>"
      ]
     },
     "execution_count": 38,
     "metadata": {},
     "output_type": "execute_result"
    },
    {
     "data": {
      "text/plain": [
       "<matplotlib.legend.Legend at 0x2c4f674efa0>"
      ]
     },
     "execution_count": 38,
     "metadata": {},
     "output_type": "execute_result"
    },
    {
     "data": {
      "image/png": "[encoded data removed]",
      "text/plain": [
       "<Figure size 720x432 with 1 Axes>"
      ]
     },
     "metadata": {},
     "output_type": "display_data"
    }
   ],
   "source": [
    "# bifuraction of label as percentage\n",
    "\n",
    "plt.figure(figsize = (10,6))\n",
    "att_test.groupby('Label').Label.count()\n",
    "att_test.groupby('Label').Label.count().plot(kind='pie',autopct='%1.1f%%', pctdistance=1.12, labeldistance=0.2, labels=['Negative Reviews','Positive Reviews'])\n",
    "plt.legend(loc=1, labels=att_test.index)\n",
    "plt.show()"
   ]
  },
  {
   "cell_type": "markdown",
   "id": "afraid-gambling",
   "metadata": {},
   "source": [
    "*The percentage of negative reviews recieved by AT&T is 100% in the year 2021*"
   ]
  },
  {
   "cell_type": "code",
   "execution_count": 42,
   "id": "bottom-jumping",
   "metadata": {},
   "outputs": [],
   "source": [
    "# since date is in object type, we shall convert it into datetime stamp\n",
    "\n",
    "att_test['Date'] = pd.to_datetime(att_test['Date'], errors = 'coerce')"
   ]
  },
  {
   "cell_type": "code",
   "execution_count": 41,
   "id": "collected-defensive",
   "metadata": {},
   "outputs": [
    {
     "data": {
      "text/html": [
       "<div>\n",
       "<style scoped>\n",
       "    .dataframe tbody tr th:only-of-type {\n",
       "        vertical-align: middle;\n",
       "    }\n",
       "\n",
       "    .dataframe tbody tr th {\n",
       "        vertical-align: top;\n",
       "    }\n",
       "\n",
       "    .dataframe thead th {\n",
       "        text-align: right;\n",
       "    }\n",
       "</style>\n",
       "<table border=\"1\" class=\"dataframe\">\n",
       "  <thead>\n",
       "    <tr style=\"text-align: right;\">\n",
       "      <th></th>\n",
       "      <th></th>\n",
       "      <th>Label</th>\n",
       "    </tr>\n",
       "    <tr>\n",
       "      <th>Date</th>\n",
       "      <th>Label</th>\n",
       "      <th></th>\n",
       "    </tr>\n",
       "  </thead>\n",
       "  <tbody>\n",
       "    <tr>\n",
       "      <th>2021</th>\n",
       "      <th>0</th>\n",
       "      <td>38</td>\n",
       "    </tr>\n",
       "  </tbody>\n",
       "</table>\n",
       "</div>"
      ],
      "text/plain": [
       "            Label\n",
       "Date Label       \n",
       "2021 0         38"
      ]
     },
     "execution_count": 41,
     "metadata": {},
     "output_type": "execute_result"
    }
   ],
   "source": [
    "# checking the count of type of reviews on a yearly basis\n",
    "\n",
    "year_label_test = pd.DataFrame(att_test.groupby([att_test.Date.dt.year]).Label.value_counts())\n",
    "year_label_test"
   ]
  },
  {
   "cell_type": "markdown",
   "id": "premium-growing",
   "metadata": {},
   "source": [
    "*From the above table, we can analyse the number of positive and negative reviews received by AT&T in each year.*  \n",
    "*In **2021**, AT&T got 38 negative reviews and 0 positive reviews*  "
   ]
  },
  {
   "cell_type": "markdown",
   "id": "increased-vitamin",
   "metadata": {},
   "source": [
    "**VERIZON**"
   ]
  },
  {
   "cell_type": "markdown",
   "id": "wooden-snake",
   "metadata": {},
   "source": [
    "**Year 2015 to 2020**"
   ]
  },
  {
   "cell_type": "code",
   "execution_count": 12,
   "id": "linear-kidney",
   "metadata": {},
   "outputs": [
    {
     "data": {
      "text/plain": [
       "0    3489\n",
       "1     956\n",
       "Name: Label, dtype: int64"
      ]
     },
     "execution_count": 12,
     "metadata": {},
     "output_type": "execute_result"
    }
   ],
   "source": [
    "# counting the number of positive and negative reviews\n",
    "\n",
    "verizon_train.Label.value_counts()"
   ]
  },
  {
   "cell_type": "code",
   "execution_count": 15,
   "id": "endangered-substitute",
   "metadata": {
    "scrolled": true
   },
   "outputs": [
    {
     "data": {
      "text/plain": [
       "<Figure size 720x432 with 0 Axes>"
      ]
     },
     "execution_count": 15,
     "metadata": {},
     "output_type": "execute_result"
    },
    {
     "data": {
      "text/plain": [
       "<AxesSubplot:xlabel='Label', ylabel='count'>"
      ]
     },
     "execution_count": 15,
     "metadata": {},
     "output_type": "execute_result"
    },
    {
     "data": {
      "text/plain": [
       "Text(0.5, 1.0, 'Total Review Numbers for Each Label')"
      ]
     },
     "execution_count": 15,
     "metadata": {},
     "output_type": "execute_result"
    },
    {
     "data": {
      "text/plain": [
       "Text(0.5, 0, 'Label')"
      ]
     },
     "execution_count": 15,
     "metadata": {},
     "output_type": "execute_result"
    },
    {
     "data": {
      "text/plain": [
       "Text(0, 0.5, 'Count of Label')"
      ]
     },
     "execution_count": 15,
     "metadata": {},
     "output_type": "execute_result"
    },
    {
     "data": {
      "image/png": "[encoded data removed]",
      "text/plain": [
       "<Figure size 720x432 with 1 Axes>"
      ]
     },
     "metadata": {
      "needs_background": "light"
     },
     "output_type": "display_data"
    },
    {
     "data": {
      "text/plain": [
       "0    3489\n",
       "1     956\n",
       "Name: Label, dtype: int64"
      ]
     },
     "execution_count": 15,
     "metadata": {},
     "output_type": "execute_result"
    }
   ],
   "source": [
    "# bifurcation of labels\n",
    "\n",
    "plt.figure(figsize = (10,6))\n",
    "sns.countplot(data = verizon_train, x = 'Label')\n",
    "plt.title('Total Review Numbers for Each Label', color='black')\n",
    "plt.xlabel('Label')\n",
    "plt.ylabel('Count of Label')\n",
    "plt.show()\n",
    "\n",
    "# Customer totals for each rating class\n",
    "verizon_train['Label'].value_counts()"
   ]
  },
  {
   "cell_type": "markdown",
   "id": "casual-patio",
   "metadata": {},
   "source": [
    "*From 2015 to 2020, Verizon received 3489 negative reviews and 956 positive reviews*"
   ]
  },
  {
   "cell_type": "code",
   "execution_count": 27,
   "id": "pleasant-albany",
   "metadata": {
    "scrolled": true
   },
   "outputs": [
    {
     "data": {
      "text/plain": [
       "<Figure size 720x432 with 0 Axes>"
      ]
     },
     "execution_count": 27,
     "metadata": {},
     "output_type": "execute_result"
    },
    {
     "data": {
      "text/plain": [
       "Label\n",
       "0    3489\n",
       "1     956\n",
       "Name: Label, dtype: int64"
      ]
     },
     "execution_count": 27,
     "metadata": {},
     "output_type": "execute_result"
    },
    {
     "data": {
      "text/plain": [
       "<AxesSubplot:ylabel='Label'>"
      ]
     },
     "execution_count": 27,
     "metadata": {},
     "output_type": "execute_result"
    },
    {
     "data": {
      "text/plain": [
       "<matplotlib.legend.Legend at 0x2c4f61a4ac0>"
      ]
     },
     "execution_count": 27,
     "metadata": {},
     "output_type": "execute_result"
    },
    {
     "data": {
      "image/png": "[encoded data removed]",
      "text/plain": [
       "<Figure size 720x432 with 1 Axes>"
      ]
     },
     "metadata": {},
     "output_type": "display_data"
    }
   ],
   "source": [
    "# bifuraction of label as percentage\n",
    "\n",
    "plt.figure(figsize = (10,6))\n",
    "verizon_train.groupby('Label').Label.count()\n",
    "verizon_train.groupby('Label').Label.count().plot(kind='pie',autopct='%1.1f%%', pctdistance=1.2, labeldistance=0.2, labels=['Negative Reviews','Positive Reviews'])\n",
    "plt.legend(loc=1, labels=verizon_train.index)\n",
    "plt.show()"
   ]
  },
  {
   "cell_type": "markdown",
   "id": "infinite-frequency",
   "metadata": {},
   "source": [
    "*The percentage of negative reviews recieved by Verizon is 78.5% and positive reviews is 21.5% over a span of six years*"
   ]
  },
  {
   "cell_type": "code",
   "execution_count": 43,
   "id": "explicit-bermuda",
   "metadata": {},
   "outputs": [],
   "source": [
    "# since date is in object type, we shall convert it into datetime stamp\n",
    "\n",
    "verizon_train['Date'] = pd.to_datetime(verizon_train['Date'], errors = 'coerce')"
   ]
  },
  {
   "cell_type": "code",
   "execution_count": 44,
   "id": "reserved-gazette",
   "metadata": {
    "scrolled": true
   },
   "outputs": [
    {
     "data": {
      "text/html": [
       "<div>\n",
       "<style scoped>\n",
       "    .dataframe tbody tr th:only-of-type {\n",
       "        vertical-align: middle;\n",
       "    }\n",
       "\n",
       "    .dataframe tbody tr th {\n",
       "        vertical-align: top;\n",
       "    }\n",
       "\n",
       "    .dataframe thead th {\n",
       "        text-align: right;\n",
       "    }\n",
       "</style>\n",
       "<table border=\"1\" class=\"dataframe\">\n",
       "  <thead>\n",
       "    <tr style=\"text-align: right;\">\n",
       "      <th></th>\n",
       "      <th></th>\n",
       "      <th>Label</th>\n",
       "    </tr>\n",
       "    <tr>\n",
       "      <th>Date</th>\n",
       "      <th>Label</th>\n",
       "      <th></th>\n",
       "    </tr>\n",
       "  </thead>\n",
       "  <tbody>\n",
       "    <tr>\n",
       "      <th rowspan=\"2\" valign=\"top\">2015</th>\n",
       "      <th>0</th>\n",
       "      <td>880</td>\n",
       "    </tr>\n",
       "    <tr>\n",
       "      <th>1</th>\n",
       "      <td>20</td>\n",
       "    </tr>\n",
       "    <tr>\n",
       "      <th rowspan=\"2\" valign=\"top\">2016</th>\n",
       "      <th>0</th>\n",
       "      <td>580</td>\n",
       "    </tr>\n",
       "    <tr>\n",
       "      <th>1</th>\n",
       "      <td>41</td>\n",
       "    </tr>\n",
       "    <tr>\n",
       "      <th rowspan=\"2\" valign=\"top\">2017</th>\n",
       "      <th>0</th>\n",
       "      <td>627</td>\n",
       "    </tr>\n",
       "    <tr>\n",
       "      <th>1</th>\n",
       "      <td>492</td>\n",
       "    </tr>\n",
       "    <tr>\n",
       "      <th rowspan=\"2\" valign=\"top\">2018</th>\n",
       "      <th>0</th>\n",
       "      <td>504</td>\n",
       "    </tr>\n",
       "    <tr>\n",
       "      <th>1</th>\n",
       "      <td>213</td>\n",
       "    </tr>\n",
       "    <tr>\n",
       "      <th rowspan=\"2\" valign=\"top\">2019</th>\n",
       "      <th>0</th>\n",
       "      <td>492</td>\n",
       "    </tr>\n",
       "    <tr>\n",
       "      <th>1</th>\n",
       "      <td>45</td>\n",
       "    </tr>\n",
       "    <tr>\n",
       "      <th rowspan=\"2\" valign=\"top\">2020</th>\n",
       "      <th>0</th>\n",
       "      <td>406</td>\n",
       "    </tr>\n",
       "    <tr>\n",
       "      <th>1</th>\n",
       "      <td>145</td>\n",
       "    </tr>\n",
       "  </tbody>\n",
       "</table>\n",
       "</div>"
      ],
      "text/plain": [
       "            Label\n",
       "Date Label       \n",
       "2015 0        880\n",
       "     1         20\n",
       "2016 0        580\n",
       "     1         41\n",
       "2017 0        627\n",
       "     1        492\n",
       "2018 0        504\n",
       "     1        213\n",
       "2019 0        492\n",
       "     1         45\n",
       "2020 0        406\n",
       "     1        145"
      ]
     },
     "execution_count": 44,
     "metadata": {},
     "output_type": "execute_result"
    }
   ],
   "source": [
    "# checking the count of type of reviews on a yearly basis\n",
    "\n",
    "year_label_train = pd.DataFrame(verizon_train.groupby([verizon_train.Date.dt.year]).Label.value_counts())\n",
    "year_label_train"
   ]
  },
  {
   "cell_type": "markdown",
   "id": "forward-costa",
   "metadata": {},
   "source": [
    "*From the above table, we can analyse the number of positive and negative reviews received by Verizon in each year.*  \n",
    "*In **2015**, Verizon got 880 negative reviews and 20 positove reviews*  \n",
    "*In **2016**, Verizon got 580 negative reviews and 41 positive reviews*  \n",
    "*In **2017**, Verizon got 627 negative reviews and 492 positive reviews*  \n",
    "*In **2018**, Verizon got 504 negative reviews and 213 positive reviews*  \n",
    "*In **2019**, Verizon got 492 negative reviews and 45 positive reviews*  \n",
    "*In **2020**, Verizon got 406 negative reviews and 145 positive reviews*  \n",
    "*In **2015** it received highest number of negative reviews and in **2016** it received lowest number of negative reviews*  \n",
    "*In **2017** it received highest number of positive reviews and in **2015** it received lowest number of positive reviews*"
   ]
  },
  {
   "cell_type": "markdown",
   "id": "annual-football",
   "metadata": {},
   "source": [
    "**Year 2021**"
   ]
  },
  {
   "cell_type": "code",
   "execution_count": 47,
   "id": "designing-baptist",
   "metadata": {},
   "outputs": [
    {
     "data": {
      "text/plain": [
       "0    101\n",
       "1      2\n",
       "Name: Label, dtype: int64"
      ]
     },
     "execution_count": 47,
     "metadata": {},
     "output_type": "execute_result"
    }
   ],
   "source": [
    "# counting the number of positive and negative reviews\n",
    "\n",
    "verizon_test.Label.value_counts()"
   ]
  },
  {
   "cell_type": "code",
   "execution_count": 48,
   "id": "popular-practitioner",
   "metadata": {
    "scrolled": true
   },
   "outputs": [
    {
     "data": {
      "text/plain": [
       "<Figure size 720x432 with 0 Axes>"
      ]
     },
     "execution_count": 48,
     "metadata": {},
     "output_type": "execute_result"
    },
    {
     "data": {
      "text/plain": [
       "<AxesSubplot:xlabel='Label', ylabel='count'>"
      ]
     },
     "execution_count": 48,
     "metadata": {},
     "output_type": "execute_result"
    },
    {
     "data": {
      "text/plain": [
       "Text(0.5, 1.0, 'Total Review Numbers for Each Label')"
      ]
     },
     "execution_count": 48,
     "metadata": {},
     "output_type": "execute_result"
    },
    {
     "data": {
      "text/plain": [
       "Text(0.5, 0, 'Label')"
      ]
     },
     "execution_count": 48,
     "metadata": {},
     "output_type": "execute_result"
    },
    {
     "data": {
      "text/plain": [
       "Text(0, 0.5, 'Count of Label')"
      ]
     },
     "execution_count": 48,
     "metadata": {},
     "output_type": "execute_result"
    },
    {
     "data": {
      "image/png": "[encoded data removed]",
      "text/plain": [
       "<Figure size 720x432 with 1 Axes>"
      ]
     },
     "metadata": {
      "needs_background": "light"
     },
     "output_type": "display_data"
    },
    {
     "data": {
      "text/plain": [
       "0    101\n",
       "1      2\n",
       "Name: Label, dtype: int64"
      ]
     },
     "execution_count": 48,
     "metadata": {},
     "output_type": "execute_result"
    }
   ],
   "source": [
    "# bifurcation of labels\n",
    "\n",
    "plt.figure(figsize = (10,6))\n",
    "sns.countplot(data = verizon_test, x = 'Label')\n",
    "plt.title('Total Review Numbers for Each Label', color='black')\n",
    "plt.xlabel('Label')\n",
    "plt.ylabel('Count of Label')\n",
    "plt.show()\n",
    "\n",
    "# Customer totals for each rating class\n",
    "verizon_test['Label'].value_counts()"
   ]
  },
  {
   "cell_type": "markdown",
   "id": "physical-perry",
   "metadata": {},
   "source": [
    "*In 2021, Verizon received 101 negative reviews and 2 positive reviews*"
   ]
  },
  {
   "cell_type": "code",
   "execution_count": 55,
   "id": "conditional-blair",
   "metadata": {},
   "outputs": [
    {
     "data": {
      "text/plain": [
       "<Figure size 720x432 with 0 Axes>"
      ]
     },
     "execution_count": 55,
     "metadata": {},
     "output_type": "execute_result"
    },
    {
     "data": {
      "text/plain": [
       "Label\n",
       "0    101\n",
       "1      2\n",
       "Name: Label, dtype: int64"
      ]
     },
     "execution_count": 55,
     "metadata": {},
     "output_type": "execute_result"
    },
    {
     "data": {
      "text/plain": [
       "<AxesSubplot:ylabel='Label'>"
      ]
     },
     "execution_count": 55,
     "metadata": {},
     "output_type": "execute_result"
    },
    {
     "data": {
      "text/plain": [
       "<matplotlib.legend.Legend at 0x2c4f68d50d0>"
      ]
     },
     "execution_count": 55,
     "metadata": {},
     "output_type": "execute_result"
    },
    {
     "data": {
      "image/png": "[encoded data removed]",
      "text/plain": [
       "<Figure size 720x432 with 1 Axes>"
      ]
     },
     "metadata": {},
     "output_type": "display_data"
    }
   ],
   "source": [
    "# bifuraction of label as percentage\n",
    "\n",
    "plt.figure(figsize = (10,6))\n",
    "verizon_test.groupby('Label').Label.count()\n",
    "verizon_test.groupby('Label').Label.count().plot(kind='pie',autopct='%1.1f%%', pctdistance=1.0, labeldistance=0.2, labels=['Negative Reviews','Positive Reviews'])\n",
    "plt.legend(loc=1, labels=verizon_test.index)\n",
    "plt.show()"
   ]
  },
  {
   "cell_type": "markdown",
   "id": "neutral-secret",
   "metadata": {},
   "source": [
    "*The percentage of negative reviews recieved by Verizon is 98.1% and positive reviews is 1.9% in the year 2021*"
   ]
  },
  {
   "cell_type": "code",
   "execution_count": 45,
   "id": "underlying-knock",
   "metadata": {},
   "outputs": [],
   "source": [
    "# since date is in object type, we shall convert it into datetime stamp\n",
    "\n",
    "verizon_test['Date'] = pd.to_datetime(verizon_test['Date'], errors = 'coerce')"
   ]
  },
  {
   "cell_type": "code",
   "execution_count": 46,
   "id": "partial-august",
   "metadata": {},
   "outputs": [
    {
     "data": {
      "text/html": [
       "<div>\n",
       "<style scoped>\n",
       "    .dataframe tbody tr th:only-of-type {\n",
       "        vertical-align: middle;\n",
       "    }\n",
       "\n",
       "    .dataframe tbody tr th {\n",
       "        vertical-align: top;\n",
       "    }\n",
       "\n",
       "    .dataframe thead th {\n",
       "        text-align: right;\n",
       "    }\n",
       "</style>\n",
       "<table border=\"1\" class=\"dataframe\">\n",
       "  <thead>\n",
       "    <tr style=\"text-align: right;\">\n",
       "      <th></th>\n",
       "      <th></th>\n",
       "      <th>Label</th>\n",
       "    </tr>\n",
       "    <tr>\n",
       "      <th>Date</th>\n",
       "      <th>Label</th>\n",
       "      <th></th>\n",
       "    </tr>\n",
       "  </thead>\n",
       "  <tbody>\n",
       "    <tr>\n",
       "      <th rowspan=\"2\" valign=\"top\">2021</th>\n",
       "      <th>0</th>\n",
       "      <td>101</td>\n",
       "    </tr>\n",
       "    <tr>\n",
       "      <th>1</th>\n",
       "      <td>2</td>\n",
       "    </tr>\n",
       "  </tbody>\n",
       "</table>\n",
       "</div>"
      ],
      "text/plain": [
       "            Label\n",
       "Date Label       \n",
       "2021 0        101\n",
       "     1          2"
      ]
     },
     "execution_count": 46,
     "metadata": {},
     "output_type": "execute_result"
    }
   ],
   "source": [
    "# checking the count of type of reviews on a yearly basis\n",
    "\n",
    "year_label_test = pd.DataFrame(verizon_test.groupby([verizon_test.Date.dt.year]).Label.value_counts())\n",
    "year_label_test"
   ]
  },
  {
   "cell_type": "markdown",
   "id": "collected-board",
   "metadata": {},
   "source": [
    "*From the above table, we can analyse the number of positive and negative reviews received by Verizon in each year.*  \n",
    "*In **2021**, Verizon got 101 negative reviews and 2 positive reviews*"
   ]
  }
 ],
 "metadata": {
  "kernelspec": {
   "display_name": "Python 3",
   "language": "python",
   "name": "python3"
  },
  "language_info": {
   "codemirror_mode": {
    "name": "ipython",
    "version": 3
   },
   "file_extension": ".py",
   "mimetype": "text/x-python",
   "name": "python",
   "nbconvert_exporter": "python",
   "pygments_lexer": "ipython3",
   "version": "3.8.3"
  }
 },
 "nbformat": 4,
 "nbformat_minor": 5
}
